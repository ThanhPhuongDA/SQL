{
 "cells": [
  {
   "cell_type": "code",
   "execution_count": 1,
   "id": "2d2f1c2e",
   "metadata": {},
   "outputs": [],
   "source": [
    "#The ETL project aims to sort out top 5 content categories that audience posted on Social Buzz platform\n",
    "# The dataset is collected from the Virtual internship of Accenture North America https://www.theforage.com/modules/hzmoNKtzvAzXsEqx8/zjxeuu5mYzBuZw3fe?ref=FgLR7mNp5iAjGzqFd"
   ]
  },
  {
   "cell_type": "code",
   "execution_count": 2,
   "id": "e073e87d",
   "metadata": {},
   "outputs": [],
   "source": [
    "import pandas as pd\n",
    "import numpy as np\n",
    "import matplotlib.pyplot as plt\n",
    "import datetime\n",
    "\n",
    "  \n"
   ]
  },
  {
   "cell_type": "code",
   "execution_count": 3,
   "id": "fc64c486",
   "metadata": {},
   "outputs": [
    {
     "data": {
      "text/plain": [
       "'C:\\\\BigDataLocalSetup\\\\spark'"
      ]
     },
     "execution_count": 3,
     "metadata": {},
     "output_type": "execute_result"
    }
   ],
   "source": [
    "import findspark\n",
    "findspark.init()\n",
    "findspark.find()"
   ]
  },
  {
   "cell_type": "code",
   "execution_count": 4,
   "id": "ed0d95ae",
   "metadata": {},
   "outputs": [],
   "source": [
    "import pyspark\n",
    "from pyspark import SparkConf, SparkContext\n",
    "from pyspark.sql import SparkSession, SQLContext\n",
    "from pyspark.sql import *\n",
    "from pyspark.sql.functions import *\n",
    "\n"
   ]
  },
  {
   "cell_type": "code",
   "execution_count": 5,
   "id": "ac73c905",
   "metadata": {},
   "outputs": [
    {
     "data": {
      "text/html": [
       "<div>\n",
       "<style scoped>\n",
       "    .dataframe tbody tr th:only-of-type {\n",
       "        vertical-align: middle;\n",
       "    }\n",
       "\n",
       "    .dataframe tbody tr th {\n",
       "        vertical-align: top;\n",
       "    }\n",
       "\n",
       "    .dataframe thead th {\n",
       "        text-align: right;\n",
       "    }\n",
       "</style>\n",
       "<table border=\"1\" class=\"dataframe\">\n",
       "  <thead>\n",
       "    <tr style=\"text-align: right;\">\n",
       "      <th></th>\n",
       "      <th>Unnamed: 0</th>\n",
       "      <th>Content ID</th>\n",
       "      <th>User ID</th>\n",
       "      <th>Type</th>\n",
       "      <th>Datetime</th>\n",
       "    </tr>\n",
       "  </thead>\n",
       "  <tbody>\n",
       "    <tr>\n",
       "      <th>0</th>\n",
       "      <td>0</td>\n",
       "      <td>97522e57-d9ab-4bd6-97bf-c24d952602d2</td>\n",
       "      <td>NaN</td>\n",
       "      <td>NaN</td>\n",
       "      <td>2021-04-22 15:17:15</td>\n",
       "    </tr>\n",
       "    <tr>\n",
       "      <th>1</th>\n",
       "      <td>1</td>\n",
       "      <td>97522e57-d9ab-4bd6-97bf-c24d952602d2</td>\n",
       "      <td>5d454588-283d-459d-915d-c48a2cb4c27f</td>\n",
       "      <td>disgust</td>\n",
       "      <td>2020-11-07 09:43:50</td>\n",
       "    </tr>\n",
       "    <tr>\n",
       "      <th>2</th>\n",
       "      <td>2</td>\n",
       "      <td>97522e57-d9ab-4bd6-97bf-c24d952602d2</td>\n",
       "      <td>92b87fa5-f271-43e0-af66-84fac21052e6</td>\n",
       "      <td>dislike</td>\n",
       "      <td>2021-06-17 12:22:51</td>\n",
       "    </tr>\n",
       "    <tr>\n",
       "      <th>3</th>\n",
       "      <td>3</td>\n",
       "      <td>97522e57-d9ab-4bd6-97bf-c24d952602d2</td>\n",
       "      <td>163daa38-8b77-48c9-9af6-37a6c1447ac2</td>\n",
       "      <td>scared</td>\n",
       "      <td>2021-04-18 05:13:58</td>\n",
       "    </tr>\n",
       "    <tr>\n",
       "      <th>4</th>\n",
       "      <td>4</td>\n",
       "      <td>97522e57-d9ab-4bd6-97bf-c24d952602d2</td>\n",
       "      <td>34e8add9-0206-47fd-a501-037b994650a2</td>\n",
       "      <td>disgust</td>\n",
       "      <td>2021-01-06 19:13:01</td>\n",
       "    </tr>\n",
       "  </tbody>\n",
       "</table>\n",
       "</div>"
      ],
      "text/plain": [
       "   Unnamed: 0                            Content ID  \\\n",
       "0           0  97522e57-d9ab-4bd6-97bf-c24d952602d2   \n",
       "1           1  97522e57-d9ab-4bd6-97bf-c24d952602d2   \n",
       "2           2  97522e57-d9ab-4bd6-97bf-c24d952602d2   \n",
       "3           3  97522e57-d9ab-4bd6-97bf-c24d952602d2   \n",
       "4           4  97522e57-d9ab-4bd6-97bf-c24d952602d2   \n",
       "\n",
       "                                User ID     Type             Datetime  \n",
       "0                                   NaN      NaN  2021-04-22 15:17:15  \n",
       "1  5d454588-283d-459d-915d-c48a2cb4c27f  disgust  2020-11-07 09:43:50  \n",
       "2  92b87fa5-f271-43e0-af66-84fac21052e6  dislike  2021-06-17 12:22:51  \n",
       "3  163daa38-8b77-48c9-9af6-37a6c1447ac2   scared  2021-04-18 05:13:58  \n",
       "4  34e8add9-0206-47fd-a501-037b994650a2  disgust  2021-01-06 19:13:01  "
      ]
     },
     "execution_count": 5,
     "metadata": {},
     "output_type": "execute_result"
    }
   ],
   "source": [
    "df1 = pd.read_csv(\"C:/Users/phuon/Downloads/Virtual internship Accenture/SBReactions.csv\",sep=',')\n",
    "df1.head()"
   ]
  },
  {
   "cell_type": "code",
   "execution_count": 6,
   "id": "c3d6fb81",
   "metadata": {
    "scrolled": true
   },
   "outputs": [
    {
     "name": "stdout",
     "output_type": "stream",
     "text": [
      "<class 'pandas.core.frame.DataFrame'>\n",
      "RangeIndex: 25553 entries, 0 to 25552\n",
      "Data columns (total 5 columns):\n",
      " #   Column      Non-Null Count  Dtype \n",
      "---  ------      --------------  ----- \n",
      " 0   Unnamed: 0  25553 non-null  int64 \n",
      " 1   Content ID  25553 non-null  object\n",
      " 2   User ID     22534 non-null  object\n",
      " 3   Type        24573 non-null  object\n",
      " 4   Datetime    25553 non-null  object\n",
      "dtypes: int64(1), object(4)\n",
      "memory usage: 998.3+ KB\n"
     ]
    }
   ],
   "source": [
    "df1.info()"
   ]
  },
  {
   "cell_type": "code",
   "execution_count": 7,
   "id": "e635c45c",
   "metadata": {},
   "outputs": [],
   "source": [
    "df1 = pd.DataFrame(df1)\n",
    "df1.drop(df1.columns[0], axis=1, inplace=True)\n"
   ]
  },
  {
   "cell_type": "code",
   "execution_count": 8,
   "id": "5a29a4fc",
   "metadata": {
    "scrolled": false
   },
   "outputs": [
    {
     "name": "stdout",
     "output_type": "stream",
     "text": [
      "                             Content ID                               User ID  \\\n",
      "0  97522e57-d9ab-4bd6-97bf-c24d952602d2                                   NaN   \n",
      "1  97522e57-d9ab-4bd6-97bf-c24d952602d2  5d454588-283d-459d-915d-c48a2cb4c27f   \n",
      "2  97522e57-d9ab-4bd6-97bf-c24d952602d2  92b87fa5-f271-43e0-af66-84fac21052e6   \n",
      "3  97522e57-d9ab-4bd6-97bf-c24d952602d2  163daa38-8b77-48c9-9af6-37a6c1447ac2   \n",
      "4  97522e57-d9ab-4bd6-97bf-c24d952602d2  34e8add9-0206-47fd-a501-037b994650a2   \n",
      "\n",
      "      Type    Datetime  \n",
      "0      NaN  2021-04-22  \n",
      "1  disgust  2020-11-07  \n",
      "2  dislike  2021-06-17  \n",
      "3   scared  2021-04-18  \n",
      "4  disgust  2021-01-06  \n"
     ]
    }
   ],
   "source": [
    "df1['Datetime'] = pd.to_datetime(df1['Datetime']).dt.date\n",
    "print(df1.head())\n"
   ]
  },
  {
   "cell_type": "code",
   "execution_count": 9,
   "id": "d814f8ee",
   "metadata": {},
   "outputs": [],
   "source": [
    "df1 = df1.dropna(axis=0,subset=['Type'])\n"
   ]
  },
  {
   "cell_type": "code",
   "execution_count": 10,
   "id": "94155cd7",
   "metadata": {},
   "outputs": [
    {
     "name": "stdout",
     "output_type": "stream",
     "text": [
      "                                 Content ID  \\\n",
      "1      97522e57-d9ab-4bd6-97bf-c24d952602d2   \n",
      "2      97522e57-d9ab-4bd6-97bf-c24d952602d2   \n",
      "3      97522e57-d9ab-4bd6-97bf-c24d952602d2   \n",
      "4      97522e57-d9ab-4bd6-97bf-c24d952602d2   \n",
      "5      97522e57-d9ab-4bd6-97bf-c24d952602d2   \n",
      "...                                     ...   \n",
      "25548  75d6b589-7fae-4a6d-b0d0-752845150e56   \n",
      "25549  75d6b589-7fae-4a6d-b0d0-752845150e56   \n",
      "25550  75d6b589-7fae-4a6d-b0d0-752845150e56   \n",
      "25551  75d6b589-7fae-4a6d-b0d0-752845150e56   \n",
      "25552  75d6b589-7fae-4a6d-b0d0-752845150e56   \n",
      "\n",
      "                                    User ID        Type    Datetime  \n",
      "1      5d454588-283d-459d-915d-c48a2cb4c27f     disgust  2020-11-07  \n",
      "2      92b87fa5-f271-43e0-af66-84fac21052e6     dislike  2021-06-17  \n",
      "3      163daa38-8b77-48c9-9af6-37a6c1447ac2      scared  2021-04-18  \n",
      "4      34e8add9-0206-47fd-a501-037b994650a2     disgust  2021-01-06  \n",
      "5      9b6d35f9-5e15-4cd0-a8d7-b1f3340e02c4  interested  2020-08-23  \n",
      "...                                     ...         ...         ...  \n",
      "25548  80c9ce48-46f9-4f5e-b3ca-3b698fc2e949     dislike  2020-06-27  \n",
      "25549  2bd9c167-e06c-47c1-a978-3403d6724606   intrigued  2021-02-16  \n",
      "25550                                   NaN  interested  2020-09-12  \n",
      "25551  5ffd8b51-164e-47e2-885e-8b8c46eb63ed     worried  2020-11-04  \n",
      "25552  4edc3d1a-a7d9-4db6-89c3-f784d9954172     cherish  2021-01-04  \n",
      "\n",
      "[24573 rows x 4 columns]\n"
     ]
    }
   ],
   "source": [
    "print(df1)"
   ]
  },
  {
   "cell_type": "code",
   "execution_count": 11,
   "id": "56cf44ba",
   "metadata": {},
   "outputs": [
    {
     "name": "stdout",
     "output_type": "stream",
     "text": [
      "                                 Content ID  \\\n",
      "1      97522e57-d9ab-4bd6-97bf-c24d952602d2   \n",
      "2      97522e57-d9ab-4bd6-97bf-c24d952602d2   \n",
      "3      97522e57-d9ab-4bd6-97bf-c24d952602d2   \n",
      "4      97522e57-d9ab-4bd6-97bf-c24d952602d2   \n",
      "5      97522e57-d9ab-4bd6-97bf-c24d952602d2   \n",
      "...                                     ...   \n",
      "25548  75d6b589-7fae-4a6d-b0d0-752845150e56   \n",
      "25549  75d6b589-7fae-4a6d-b0d0-752845150e56   \n",
      "25550  75d6b589-7fae-4a6d-b0d0-752845150e56   \n",
      "25551  75d6b589-7fae-4a6d-b0d0-752845150e56   \n",
      "25552  75d6b589-7fae-4a6d-b0d0-752845150e56   \n",
      "\n",
      "                                    User ID        Type    Datetime  \n",
      "1      5d454588-283d-459d-915d-c48a2cb4c27f     disgust  2020-11-07  \n",
      "2      92b87fa5-f271-43e0-af66-84fac21052e6     dislike  2021-06-17  \n",
      "3      163daa38-8b77-48c9-9af6-37a6c1447ac2      scared  2021-04-18  \n",
      "4      34e8add9-0206-47fd-a501-037b994650a2     disgust  2021-01-06  \n",
      "5      9b6d35f9-5e15-4cd0-a8d7-b1f3340e02c4  interested  2020-08-23  \n",
      "...                                     ...         ...         ...  \n",
      "25548  80c9ce48-46f9-4f5e-b3ca-3b698fc2e949     dislike  2020-06-27  \n",
      "25549  2bd9c167-e06c-47c1-a978-3403d6724606   intrigued  2021-02-16  \n",
      "25550                                   NaN  interested  2020-09-12  \n",
      "25551  5ffd8b51-164e-47e2-885e-8b8c46eb63ed     worried  2020-11-04  \n",
      "25552  4edc3d1a-a7d9-4db6-89c3-f784d9954172     cherish  2021-01-04  \n",
      "\n",
      "[24573 rows x 4 columns]\n"
     ]
    }
   ],
   "source": [
    "df1.loc[:,'Type'] = df1.loc[:, 'Type'].str.lower()\n",
    "print(df1)"
   ]
  },
  {
   "cell_type": "code",
   "execution_count": 12,
   "id": "fc79d17e",
   "metadata": {
    "scrolled": true
   },
   "outputs": [
    {
     "name": "stdout",
     "output_type": "stream",
     "text": [
      "    Unnamed: 0         Type Sentiment  Score\n",
      "0            0        heart  positive     60\n",
      "1            1         want  positive     70\n",
      "2            2      disgust  negative      0\n",
      "3            3         hate  negative      5\n",
      "4            4   interested  positive     30\n",
      "5            5  indifferent   neutral     20\n",
      "6            6         love  positive     65\n",
      "7            7   super love  positive     75\n",
      "8            8      cherish  positive     70\n",
      "9            9        adore  positive     72\n",
      "10          10         like  positive     50\n",
      "11          11      dislike  negative     10\n",
      "12          12    intrigued  positive     45\n",
      "13          13      peeking   neutral     35\n",
      "14          14       scared  negative     15\n",
      "15          15      worried  negative     12\n"
     ]
    }
   ],
   "source": [
    "df2 = pd.read_csv(\"C:/Users/phuon/Downloads/Virtual internship Accenture/SBReactionTypes.csv\",sep=',')\n",
    "print(df2)"
   ]
  },
  {
   "cell_type": "code",
   "execution_count": 13,
   "id": "e9ba392b",
   "metadata": {},
   "outputs": [
    {
     "name": "stdout",
     "output_type": "stream",
     "text": [
      "           Type Sentiment  Score\n",
      "0         heart  positive     60\n",
      "1          want  positive     70\n",
      "2       disgust  negative      0\n",
      "3          hate  negative      5\n",
      "4    interested  positive     30\n",
      "5   indifferent   neutral     20\n",
      "6          love  positive     65\n",
      "7    super love  positive     75\n",
      "8       cherish  positive     70\n",
      "9         adore  positive     72\n",
      "10         like  positive     50\n",
      "11      dislike  negative     10\n",
      "12    intrigued  positive     45\n",
      "13      peeking   neutral     35\n",
      "14       scared  negative     15\n",
      "15      worried  negative     12\n"
     ]
    }
   ],
   "source": [
    "df2 = pd.DataFrame(df2)\n",
    "df2.drop(df2.columns[0], axis=1, inplace=True)\n",
    "print(df2)"
   ]
  },
  {
   "cell_type": "code",
   "execution_count": 14,
   "id": "256edfcc",
   "metadata": {},
   "outputs": [],
   "source": [
    "merged1 = df1.merge(df2, on='Type',how='left')\n"
   ]
  },
  {
   "cell_type": "code",
   "execution_count": 15,
   "id": "dcf26c0b",
   "metadata": {},
   "outputs": [
    {
     "name": "stdout",
     "output_type": "stream",
     "text": [
      "                                 Content ID  \\\n",
      "0      97522e57-d9ab-4bd6-97bf-c24d952602d2   \n",
      "1      97522e57-d9ab-4bd6-97bf-c24d952602d2   \n",
      "2      97522e57-d9ab-4bd6-97bf-c24d952602d2   \n",
      "3      97522e57-d9ab-4bd6-97bf-c24d952602d2   \n",
      "4      97522e57-d9ab-4bd6-97bf-c24d952602d2   \n",
      "...                                     ...   \n",
      "24568  75d6b589-7fae-4a6d-b0d0-752845150e56   \n",
      "24569  75d6b589-7fae-4a6d-b0d0-752845150e56   \n",
      "24570  75d6b589-7fae-4a6d-b0d0-752845150e56   \n",
      "24571  75d6b589-7fae-4a6d-b0d0-752845150e56   \n",
      "24572  75d6b589-7fae-4a6d-b0d0-752845150e56   \n",
      "\n",
      "                                    User ID        Type    Datetime Sentiment  \\\n",
      "0      5d454588-283d-459d-915d-c48a2cb4c27f     disgust  2020-11-07  negative   \n",
      "1      92b87fa5-f271-43e0-af66-84fac21052e6     dislike  2021-06-17  negative   \n",
      "2      163daa38-8b77-48c9-9af6-37a6c1447ac2      scared  2021-04-18  negative   \n",
      "3      34e8add9-0206-47fd-a501-037b994650a2     disgust  2021-01-06  negative   \n",
      "4      9b6d35f9-5e15-4cd0-a8d7-b1f3340e02c4  interested  2020-08-23  positive   \n",
      "...                                     ...         ...         ...       ...   \n",
      "24568  80c9ce48-46f9-4f5e-b3ca-3b698fc2e949     dislike  2020-06-27  negative   \n",
      "24569  2bd9c167-e06c-47c1-a978-3403d6724606   intrigued  2021-02-16  positive   \n",
      "24570                                   NaN  interested  2020-09-12  positive   \n",
      "24571  5ffd8b51-164e-47e2-885e-8b8c46eb63ed     worried  2020-11-04  negative   \n",
      "24572  4edc3d1a-a7d9-4db6-89c3-f784d9954172     cherish  2021-01-04  positive   \n",
      "\n",
      "       Score  \n",
      "0          0  \n",
      "1         10  \n",
      "2         15  \n",
      "3          0  \n",
      "4         30  \n",
      "...      ...  \n",
      "24568     10  \n",
      "24569     45  \n",
      "24570     30  \n",
      "24571     12  \n",
      "24572     70  \n",
      "\n",
      "[24573 rows x 6 columns]\n"
     ]
    }
   ],
   "source": [
    "print(merged1)"
   ]
  },
  {
   "cell_type": "code",
   "execution_count": 16,
   "id": "b443de8b",
   "metadata": {},
   "outputs": [
    {
     "name": "stdout",
     "output_type": "stream",
     "text": [
      "<class 'pandas.core.frame.DataFrame'>\n",
      "Int64Index: 24573 entries, 0 to 24572\n",
      "Data columns (total 6 columns):\n",
      " #   Column      Non-Null Count  Dtype \n",
      "---  ------      --------------  ----- \n",
      " 0   Content ID  24573 non-null  object\n",
      " 1   User ID     22534 non-null  object\n",
      " 2   Type        24573 non-null  object\n",
      " 3   Datetime    24573 non-null  object\n",
      " 4   Sentiment   24573 non-null  object\n",
      " 5   Score       24573 non-null  int64 \n",
      "dtypes: int64(1), object(5)\n",
      "memory usage: 1.3+ MB\n"
     ]
    }
   ],
   "source": [
    "merged1.info()"
   ]
  },
  {
   "cell_type": "code",
   "execution_count": 17,
   "id": "2792ab2f",
   "metadata": {},
   "outputs": [],
   "source": [
    "merged1.set_index(\"Content ID\", inplace=True)"
   ]
  },
  {
   "cell_type": "code",
   "execution_count": 18,
   "id": "b700c871",
   "metadata": {},
   "outputs": [
    {
     "data": {
      "text/html": [
       "<div>\n",
       "<style scoped>\n",
       "    .dataframe tbody tr th:only-of-type {\n",
       "        vertical-align: middle;\n",
       "    }\n",
       "\n",
       "    .dataframe tbody tr th {\n",
       "        vertical-align: top;\n",
       "    }\n",
       "\n",
       "    .dataframe thead th {\n",
       "        text-align: right;\n",
       "    }\n",
       "</style>\n",
       "<table border=\"1\" class=\"dataframe\">\n",
       "  <thead>\n",
       "    <tr style=\"text-align: right;\">\n",
       "      <th></th>\n",
       "      <th>Unnamed: 0</th>\n",
       "      <th>Content ID</th>\n",
       "      <th>User ID</th>\n",
       "      <th>Type</th>\n",
       "      <th>Category</th>\n",
       "      <th>URL</th>\n",
       "    </tr>\n",
       "  </thead>\n",
       "  <tbody>\n",
       "    <tr>\n",
       "      <th>0</th>\n",
       "      <td>0</td>\n",
       "      <td>97522e57-d9ab-4bd6-97bf-c24d952602d2</td>\n",
       "      <td>8d3cd87d-8a31-4935-9a4f-b319bfe05f31</td>\n",
       "      <td>photo</td>\n",
       "      <td>Studying</td>\n",
       "      <td>https://socialbuzz.cdn.com/content/storage/975...</td>\n",
       "    </tr>\n",
       "    <tr>\n",
       "      <th>1</th>\n",
       "      <td>1</td>\n",
       "      <td>9f737e0a-3cdd-4d29-9d24-753f4e3be810</td>\n",
       "      <td>beb1f34e-7870-46d6-9fc7-2e12eb83ce43</td>\n",
       "      <td>photo</td>\n",
       "      <td>healthy eating</td>\n",
       "      <td>https://socialbuzz.cdn.com/content/storage/9f7...</td>\n",
       "    </tr>\n",
       "    <tr>\n",
       "      <th>2</th>\n",
       "      <td>2</td>\n",
       "      <td>230c4e4d-70c3-461d-b42c-ec09396efb3f</td>\n",
       "      <td>a5c65404-5894-4b87-82f2-d787cbee86b4</td>\n",
       "      <td>photo</td>\n",
       "      <td>healthy eating</td>\n",
       "      <td>https://socialbuzz.cdn.com/content/storage/230...</td>\n",
       "    </tr>\n",
       "    <tr>\n",
       "      <th>3</th>\n",
       "      <td>3</td>\n",
       "      <td>356fff80-da4d-4785-9f43-bc1261031dc6</td>\n",
       "      <td>9fb4ce88-fac1-406c-8544-1a899cee7aaf</td>\n",
       "      <td>photo</td>\n",
       "      <td>technology</td>\n",
       "      <td>https://socialbuzz.cdn.com/content/storage/356...</td>\n",
       "    </tr>\n",
       "    <tr>\n",
       "      <th>4</th>\n",
       "      <td>4</td>\n",
       "      <td>01ab84dd-6364-4236-abbb-3f237db77180</td>\n",
       "      <td>e206e31b-5f85-4964-b6ea-d7ee5324def1</td>\n",
       "      <td>video</td>\n",
       "      <td>food</td>\n",
       "      <td>https://socialbuzz.cdn.com/content/storage/01a...</td>\n",
       "    </tr>\n",
       "  </tbody>\n",
       "</table>\n",
       "</div>"
      ],
      "text/plain": [
       "   Unnamed: 0                            Content ID  \\\n",
       "0           0  97522e57-d9ab-4bd6-97bf-c24d952602d2   \n",
       "1           1  9f737e0a-3cdd-4d29-9d24-753f4e3be810   \n",
       "2           2  230c4e4d-70c3-461d-b42c-ec09396efb3f   \n",
       "3           3  356fff80-da4d-4785-9f43-bc1261031dc6   \n",
       "4           4  01ab84dd-6364-4236-abbb-3f237db77180   \n",
       "\n",
       "                                User ID   Type        Category  \\\n",
       "0  8d3cd87d-8a31-4935-9a4f-b319bfe05f31  photo        Studying   \n",
       "1  beb1f34e-7870-46d6-9fc7-2e12eb83ce43  photo  healthy eating   \n",
       "2  a5c65404-5894-4b87-82f2-d787cbee86b4  photo  healthy eating   \n",
       "3  9fb4ce88-fac1-406c-8544-1a899cee7aaf  photo      technology   \n",
       "4  e206e31b-5f85-4964-b6ea-d7ee5324def1  video            food   \n",
       "\n",
       "                                                 URL  \n",
       "0  https://socialbuzz.cdn.com/content/storage/975...  \n",
       "1  https://socialbuzz.cdn.com/content/storage/9f7...  \n",
       "2  https://socialbuzz.cdn.com/content/storage/230...  \n",
       "3  https://socialbuzz.cdn.com/content/storage/356...  \n",
       "4  https://socialbuzz.cdn.com/content/storage/01a...  "
      ]
     },
     "execution_count": 18,
     "metadata": {},
     "output_type": "execute_result"
    }
   ],
   "source": [
    "df3 = pd.read_csv(\"C:/Users/phuon/Downloads/Virtual internship Accenture/SBContent.csv\",sep=',')\n",
    "df3.head()"
   ]
  },
  {
   "cell_type": "code",
   "execution_count": 19,
   "id": "b64544a7",
   "metadata": {},
   "outputs": [
    {
     "name": "stdout",
     "output_type": "stream",
     "text": [
      "                               Content ID  \\\n",
      "0    97522e57-d9ab-4bd6-97bf-c24d952602d2   \n",
      "1    9f737e0a-3cdd-4d29-9d24-753f4e3be810   \n",
      "2    230c4e4d-70c3-461d-b42c-ec09396efb3f   \n",
      "3    356fff80-da4d-4785-9f43-bc1261031dc6   \n",
      "4    01ab84dd-6364-4236-abbb-3f237db77180   \n",
      "..                                    ...   \n",
      "995  b4cef9ef-627b-41d7-a051-5961b0204ebb   \n",
      "996  7a79f4e4-3b7d-44dc-bdef-bc990740252c   \n",
      "997  435007a5-6261-4d8b-b0a4-55fdc189754b   \n",
      "998  4e4c9690-c013-4ee7-9e66-943d8cbd27b7   \n",
      "999  75d6b589-7fae-4a6d-b0d0-752845150e56   \n",
      "\n",
      "                                  User ID   Type         Category  \\\n",
      "0    8d3cd87d-8a31-4935-9a4f-b319bfe05f31  photo         Studying   \n",
      "1    beb1f34e-7870-46d6-9fc7-2e12eb83ce43  photo   healthy eating   \n",
      "2    a5c65404-5894-4b87-82f2-d787cbee86b4  photo   healthy eating   \n",
      "3    9fb4ce88-fac1-406c-8544-1a899cee7aaf  photo       technology   \n",
      "4    e206e31b-5f85-4964-b6ea-d7ee5324def1  video             food   \n",
      "..                                    ...    ...              ...   \n",
      "995  5b62e10e-3c19-4d28-a57c-e9bdc3d6758d  video  public speaking   \n",
      "996  4fe420fa-a193-4408-bd5d-62a020233609    GIF       technology   \n",
      "997  35d6a1f3-e358-4d4b-8074-05f3b7f35c2a  audio         veganism   \n",
      "998  b9bcd994-f000-4f6b-87fc-caae08acfaa1    GIF          culture   \n",
      "999  b8c653b5-0118-4d7e-9bde-07c2de90f0ff  audio       technology   \n",
      "\n",
      "                                                   URL  \n",
      "0    https://socialbuzz.cdn.com/content/storage/975...  \n",
      "1    https://socialbuzz.cdn.com/content/storage/9f7...  \n",
      "2    https://socialbuzz.cdn.com/content/storage/230...  \n",
      "3    https://socialbuzz.cdn.com/content/storage/356...  \n",
      "4    https://socialbuzz.cdn.com/content/storage/01a...  \n",
      "..                                                 ...  \n",
      "995                                                NaN  \n",
      "996  https://socialbuzz.cdn.com/content/storage/7a7...  \n",
      "997  https://socialbuzz.cdn.com/content/storage/435...  \n",
      "998  https://socialbuzz.cdn.com/content/storage/4e4...  \n",
      "999  https://socialbuzz.cdn.com/content/storage/75d...  \n",
      "\n",
      "[1000 rows x 5 columns]\n"
     ]
    }
   ],
   "source": [
    "df3 = pd.DataFrame(df3)\n",
    "df3.drop(df3.columns[0], axis=1, inplace=True)\n",
    "print(df3)"
   ]
  },
  {
   "cell_type": "code",
   "execution_count": 20,
   "id": "14ce8f10",
   "metadata": {},
   "outputs": [],
   "source": [
    "df3.rename(columns = {'Type':'Contenttypes'}, inplace = True)\n"
   ]
  },
  {
   "cell_type": "code",
   "execution_count": 21,
   "id": "082523ae",
   "metadata": {},
   "outputs": [
    {
     "name": "stdout",
     "output_type": "stream",
     "text": [
      "                               Content ID  \\\n",
      "0    97522e57-d9ab-4bd6-97bf-c24d952602d2   \n",
      "1    9f737e0a-3cdd-4d29-9d24-753f4e3be810   \n",
      "2    230c4e4d-70c3-461d-b42c-ec09396efb3f   \n",
      "3    356fff80-da4d-4785-9f43-bc1261031dc6   \n",
      "4    01ab84dd-6364-4236-abbb-3f237db77180   \n",
      "..                                    ...   \n",
      "995  b4cef9ef-627b-41d7-a051-5961b0204ebb   \n",
      "996  7a79f4e4-3b7d-44dc-bdef-bc990740252c   \n",
      "997  435007a5-6261-4d8b-b0a4-55fdc189754b   \n",
      "998  4e4c9690-c013-4ee7-9e66-943d8cbd27b7   \n",
      "999  75d6b589-7fae-4a6d-b0d0-752845150e56   \n",
      "\n",
      "                                  User ID Contenttypes         Category  \\\n",
      "0    8d3cd87d-8a31-4935-9a4f-b319bfe05f31        photo         Studying   \n",
      "1    beb1f34e-7870-46d6-9fc7-2e12eb83ce43        photo   healthy eating   \n",
      "2    a5c65404-5894-4b87-82f2-d787cbee86b4        photo   healthy eating   \n",
      "3    9fb4ce88-fac1-406c-8544-1a899cee7aaf        photo       technology   \n",
      "4    e206e31b-5f85-4964-b6ea-d7ee5324def1        video             food   \n",
      "..                                    ...          ...              ...   \n",
      "995  5b62e10e-3c19-4d28-a57c-e9bdc3d6758d        video  public speaking   \n",
      "996  4fe420fa-a193-4408-bd5d-62a020233609          GIF       technology   \n",
      "997  35d6a1f3-e358-4d4b-8074-05f3b7f35c2a        audio         veganism   \n",
      "998  b9bcd994-f000-4f6b-87fc-caae08acfaa1          GIF          culture   \n",
      "999  b8c653b5-0118-4d7e-9bde-07c2de90f0ff        audio       technology   \n",
      "\n",
      "                                                   URL  \n",
      "0    https://socialbuzz.cdn.com/content/storage/975...  \n",
      "1    https://socialbuzz.cdn.com/content/storage/9f7...  \n",
      "2    https://socialbuzz.cdn.com/content/storage/230...  \n",
      "3    https://socialbuzz.cdn.com/content/storage/356...  \n",
      "4    https://socialbuzz.cdn.com/content/storage/01a...  \n",
      "..                                                 ...  \n",
      "995                                                NaN  \n",
      "996  https://socialbuzz.cdn.com/content/storage/7a7...  \n",
      "997  https://socialbuzz.cdn.com/content/storage/435...  \n",
      "998  https://socialbuzz.cdn.com/content/storage/4e4...  \n",
      "999  https://socialbuzz.cdn.com/content/storage/75d...  \n",
      "\n",
      "[1000 rows x 5 columns]\n"
     ]
    }
   ],
   "source": [
    "print(df3)"
   ]
  },
  {
   "cell_type": "code",
   "execution_count": 22,
   "id": "dccb9b09",
   "metadata": {},
   "outputs": [
    {
     "name": "stdout",
     "output_type": "stream",
     "text": [
      "                               Content ID  \\\n",
      "0    97522e57-d9ab-4bd6-97bf-c24d952602d2   \n",
      "1    9f737e0a-3cdd-4d29-9d24-753f4e3be810   \n",
      "2    230c4e4d-70c3-461d-b42c-ec09396efb3f   \n",
      "3    356fff80-da4d-4785-9f43-bc1261031dc6   \n",
      "4    01ab84dd-6364-4236-abbb-3f237db77180   \n",
      "..                                    ...   \n",
      "995  b4cef9ef-627b-41d7-a051-5961b0204ebb   \n",
      "996  7a79f4e4-3b7d-44dc-bdef-bc990740252c   \n",
      "997  435007a5-6261-4d8b-b0a4-55fdc189754b   \n",
      "998  4e4c9690-c013-4ee7-9e66-943d8cbd27b7   \n",
      "999  75d6b589-7fae-4a6d-b0d0-752845150e56   \n",
      "\n",
      "                                  User ID Contenttypes         Category  \\\n",
      "0    8d3cd87d-8a31-4935-9a4f-b319bfe05f31        photo         Studying   \n",
      "1    beb1f34e-7870-46d6-9fc7-2e12eb83ce43        photo   healthy eating   \n",
      "2    a5c65404-5894-4b87-82f2-d787cbee86b4        photo   healthy eating   \n",
      "3    9fb4ce88-fac1-406c-8544-1a899cee7aaf        photo       technology   \n",
      "4    e206e31b-5f85-4964-b6ea-d7ee5324def1        video             food   \n",
      "..                                    ...          ...              ...   \n",
      "995  5b62e10e-3c19-4d28-a57c-e9bdc3d6758d        video  public speaking   \n",
      "996  4fe420fa-a193-4408-bd5d-62a020233609          gif       technology   \n",
      "997  35d6a1f3-e358-4d4b-8074-05f3b7f35c2a        audio         veganism   \n",
      "998  b9bcd994-f000-4f6b-87fc-caae08acfaa1          gif          culture   \n",
      "999  b8c653b5-0118-4d7e-9bde-07c2de90f0ff        audio       technology   \n",
      "\n",
      "                                                   URL  \n",
      "0    https://socialbuzz.cdn.com/content/storage/975...  \n",
      "1    https://socialbuzz.cdn.com/content/storage/9f7...  \n",
      "2    https://socialbuzz.cdn.com/content/storage/230...  \n",
      "3    https://socialbuzz.cdn.com/content/storage/356...  \n",
      "4    https://socialbuzz.cdn.com/content/storage/01a...  \n",
      "..                                                 ...  \n",
      "995                                                NaN  \n",
      "996  https://socialbuzz.cdn.com/content/storage/7a7...  \n",
      "997  https://socialbuzz.cdn.com/content/storage/435...  \n",
      "998  https://socialbuzz.cdn.com/content/storage/4e4...  \n",
      "999  https://socialbuzz.cdn.com/content/storage/75d...  \n",
      "\n",
      "[1000 rows x 5 columns]\n"
     ]
    }
   ],
   "source": [
    "df3.loc[:,'Contenttypes'] = df3.loc[:, 'Contenttypes'].str.lower()\n",
    "print(df3)"
   ]
  },
  {
   "cell_type": "code",
   "execution_count": 23,
   "id": "3bbb44d1",
   "metadata": {},
   "outputs": [
    {
     "name": "stdout",
     "output_type": "stream",
     "text": [
      "                                 Content ID  \\\n",
      "0      97522e57-d9ab-4bd6-97bf-c24d952602d2   \n",
      "1      97522e57-d9ab-4bd6-97bf-c24d952602d2   \n",
      "2      97522e57-d9ab-4bd6-97bf-c24d952602d2   \n",
      "3      97522e57-d9ab-4bd6-97bf-c24d952602d2   \n",
      "4      97522e57-d9ab-4bd6-97bf-c24d952602d2   \n",
      "...                                     ...   \n",
      "24568  75d6b589-7fae-4a6d-b0d0-752845150e56   \n",
      "24569  75d6b589-7fae-4a6d-b0d0-752845150e56   \n",
      "24570  75d6b589-7fae-4a6d-b0d0-752845150e56   \n",
      "24571  75d6b589-7fae-4a6d-b0d0-752845150e56   \n",
      "24572  75d6b589-7fae-4a6d-b0d0-752845150e56   \n",
      "\n",
      "                                    User ID        Type    Datetime Sentiment  \\\n",
      "0      5d454588-283d-459d-915d-c48a2cb4c27f     disgust  2020-11-07  negative   \n",
      "1      92b87fa5-f271-43e0-af66-84fac21052e6     dislike  2021-06-17  negative   \n",
      "2      163daa38-8b77-48c9-9af6-37a6c1447ac2      scared  2021-04-18  negative   \n",
      "3      34e8add9-0206-47fd-a501-037b994650a2     disgust  2021-01-06  negative   \n",
      "4      9b6d35f9-5e15-4cd0-a8d7-b1f3340e02c4  interested  2020-08-23  positive   \n",
      "...                                     ...         ...         ...       ...   \n",
      "24568  80c9ce48-46f9-4f5e-b3ca-3b698fc2e949     dislike  2020-06-27  negative   \n",
      "24569  2bd9c167-e06c-47c1-a978-3403d6724606   intrigued  2021-02-16  positive   \n",
      "24570                                   NaN  interested  2020-09-12  positive   \n",
      "24571  5ffd8b51-164e-47e2-885e-8b8c46eb63ed     worried  2020-11-04  negative   \n",
      "24572  4edc3d1a-a7d9-4db6-89c3-f784d9954172     cherish  2021-01-04  positive   \n",
      "\n",
      "       Score    Category  \n",
      "0          0    Studying  \n",
      "1         10    Studying  \n",
      "2         15    Studying  \n",
      "3          0    Studying  \n",
      "4         30    Studying  \n",
      "...      ...         ...  \n",
      "24568     10  technology  \n",
      "24569     45  technology  \n",
      "24570     30  technology  \n",
      "24571     12  technology  \n",
      "24572     70  technology  \n",
      "\n",
      "[24573 rows x 7 columns]\n"
     ]
    }
   ],
   "source": [
    "df = pd.merge(\n",
    "    left=merged1,\n",
    "    right=df3[['Content ID','Category']],\n",
    "    on='Content ID',\n",
    "    how='left'\n",
    ")\n",
    "\n",
    "print(df)\n"
   ]
  },
  {
   "cell_type": "code",
   "execution_count": 24,
   "id": "623b8bda",
   "metadata": {},
   "outputs": [
    {
     "data": {
      "text/plain": [
       "Index(['Content ID', 'User ID', 'Type', 'Datetime', 'Sentiment', 'Score',\n",
       "       'Category'],\n",
       "      dtype='object')"
      ]
     },
     "execution_count": 24,
     "metadata": {},
     "output_type": "execute_result"
    }
   ],
   "source": [
    "df.columns"
   ]
  },
  {
   "cell_type": "code",
   "execution_count": 25,
   "id": "a6c57873",
   "metadata": {},
   "outputs": [],
   "source": [
    "df['Category'] = df['Category'].str.replace('\"', '') \n"
   ]
  },
  {
   "cell_type": "code",
   "execution_count": 26,
   "id": "ca4927ad",
   "metadata": {},
   "outputs": [],
   "source": [
    "df.loc[:,'Category'] = df.loc[:, 'Category'].str.lower()\n"
   ]
  },
  {
   "cell_type": "code",
   "execution_count": 27,
   "id": "b08690a6",
   "metadata": {},
   "outputs": [],
   "source": [
    "df.rename(columns = {'Content ID':'Content_ID','User ID': 'User_ID'}, inplace = True)\n"
   ]
  },
  {
   "cell_type": "code",
   "execution_count": 28,
   "id": "d39540fb",
   "metadata": {},
   "outputs": [
    {
     "data": {
      "text/html": [
       "<div>\n",
       "<style scoped>\n",
       "    .dataframe tbody tr th:only-of-type {\n",
       "        vertical-align: middle;\n",
       "    }\n",
       "\n",
       "    .dataframe tbody tr th {\n",
       "        vertical-align: top;\n",
       "    }\n",
       "\n",
       "    .dataframe thead th {\n",
       "        text-align: right;\n",
       "    }\n",
       "</style>\n",
       "<table border=\"1\" class=\"dataframe\">\n",
       "  <thead>\n",
       "    <tr style=\"text-align: right;\">\n",
       "      <th></th>\n",
       "      <th>Content_ID</th>\n",
       "      <th>User_ID</th>\n",
       "      <th>Type</th>\n",
       "      <th>Datetime</th>\n",
       "      <th>Sentiment</th>\n",
       "      <th>Score</th>\n",
       "      <th>Category</th>\n",
       "    </tr>\n",
       "  </thead>\n",
       "  <tbody>\n",
       "    <tr>\n",
       "      <th>0</th>\n",
       "      <td>97522e57-d9ab-4bd6-97bf-c24d952602d2</td>\n",
       "      <td>5d454588-283d-459d-915d-c48a2cb4c27f</td>\n",
       "      <td>disgust</td>\n",
       "      <td>2020-11-07</td>\n",
       "      <td>negative</td>\n",
       "      <td>0</td>\n",
       "      <td>studying</td>\n",
       "    </tr>\n",
       "    <tr>\n",
       "      <th>1</th>\n",
       "      <td>97522e57-d9ab-4bd6-97bf-c24d952602d2</td>\n",
       "      <td>92b87fa5-f271-43e0-af66-84fac21052e6</td>\n",
       "      <td>dislike</td>\n",
       "      <td>2021-06-17</td>\n",
       "      <td>negative</td>\n",
       "      <td>10</td>\n",
       "      <td>studying</td>\n",
       "    </tr>\n",
       "    <tr>\n",
       "      <th>2</th>\n",
       "      <td>97522e57-d9ab-4bd6-97bf-c24d952602d2</td>\n",
       "      <td>163daa38-8b77-48c9-9af6-37a6c1447ac2</td>\n",
       "      <td>scared</td>\n",
       "      <td>2021-04-18</td>\n",
       "      <td>negative</td>\n",
       "      <td>15</td>\n",
       "      <td>studying</td>\n",
       "    </tr>\n",
       "    <tr>\n",
       "      <th>3</th>\n",
       "      <td>97522e57-d9ab-4bd6-97bf-c24d952602d2</td>\n",
       "      <td>34e8add9-0206-47fd-a501-037b994650a2</td>\n",
       "      <td>disgust</td>\n",
       "      <td>2021-01-06</td>\n",
       "      <td>negative</td>\n",
       "      <td>0</td>\n",
       "      <td>studying</td>\n",
       "    </tr>\n",
       "    <tr>\n",
       "      <th>4</th>\n",
       "      <td>97522e57-d9ab-4bd6-97bf-c24d952602d2</td>\n",
       "      <td>9b6d35f9-5e15-4cd0-a8d7-b1f3340e02c4</td>\n",
       "      <td>interested</td>\n",
       "      <td>2020-08-23</td>\n",
       "      <td>positive</td>\n",
       "      <td>30</td>\n",
       "      <td>studying</td>\n",
       "    </tr>\n",
       "  </tbody>\n",
       "</table>\n",
       "</div>"
      ],
      "text/plain": [
       "                             Content_ID                               User_ID  \\\n",
       "0  97522e57-d9ab-4bd6-97bf-c24d952602d2  5d454588-283d-459d-915d-c48a2cb4c27f   \n",
       "1  97522e57-d9ab-4bd6-97bf-c24d952602d2  92b87fa5-f271-43e0-af66-84fac21052e6   \n",
       "2  97522e57-d9ab-4bd6-97bf-c24d952602d2  163daa38-8b77-48c9-9af6-37a6c1447ac2   \n",
       "3  97522e57-d9ab-4bd6-97bf-c24d952602d2  34e8add9-0206-47fd-a501-037b994650a2   \n",
       "4  97522e57-d9ab-4bd6-97bf-c24d952602d2  9b6d35f9-5e15-4cd0-a8d7-b1f3340e02c4   \n",
       "\n",
       "         Type    Datetime Sentiment  Score  Category  \n",
       "0     disgust  2020-11-07  negative      0  studying  \n",
       "1     dislike  2021-06-17  negative     10  studying  \n",
       "2      scared  2021-04-18  negative     15  studying  \n",
       "3     disgust  2021-01-06  negative      0  studying  \n",
       "4  interested  2020-08-23  positive     30  studying  "
      ]
     },
     "execution_count": 28,
     "metadata": {},
     "output_type": "execute_result"
    }
   ],
   "source": [
    "df.head()"
   ]
  },
  {
   "cell_type": "code",
   "execution_count": 29,
   "id": "e85fae3d",
   "metadata": {},
   "outputs": [],
   "source": [
    "df.to_csv('Final_data.csv',index=False)"
   ]
  },
  {
   "cell_type": "code",
   "execution_count": 30,
   "id": "c49d89c9",
   "metadata": {},
   "outputs": [],
   "source": [
    "from pyspark.sql import SparkSession\n",
    "spark = SparkSession.builder.getOrCreate()"
   ]
  },
  {
   "cell_type": "code",
   "execution_count": 31,
   "id": "b849123e",
   "metadata": {},
   "outputs": [],
   "source": [
    "df = spark.read.option('inferSchema',True).option('header', True).csv(\"C:/Users/phuon/Final_data.csv\")\n"
   ]
  },
  {
   "cell_type": "code",
   "execution_count": 32,
   "id": "2e40fc40",
   "metadata": {},
   "outputs": [
    {
     "name": "stdout",
     "output_type": "stream",
     "text": [
      "+--------------------+--------------------+-----------+----------+---------+-----+--------+\n",
      "|          Content_ID|             User_ID|       Type|  Datetime|Sentiment|Score|Category|\n",
      "+--------------------+--------------------+-----------+----------+---------+-----+--------+\n",
      "|97522e57-d9ab-4bd...|5d454588-283d-459...|    disgust|2020-11-07| negative|    0|studying|\n",
      "|97522e57-d9ab-4bd...|92b87fa5-f271-43e...|    dislike|2021-06-17| negative|   10|studying|\n",
      "|97522e57-d9ab-4bd...|163daa38-8b77-48c...|     scared|2021-04-18| negative|   15|studying|\n",
      "|97522e57-d9ab-4bd...|34e8add9-0206-47f...|    disgust|2021-01-06| negative|    0|studying|\n",
      "|97522e57-d9ab-4bd...|9b6d35f9-5e15-4cd...| interested|2020-08-23| positive|   30|studying|\n",
      "|97522e57-d9ab-4bd...|7918d465-0953-4f2...|    peeking|2020-12-07|  neutral|   35|studying|\n",
      "|97522e57-d9ab-4bd...|fa3e42f0-71d8-455...|    cherish|2021-04-11| positive|   70|studying|\n",
      "|97522e57-d9ab-4bd...|b0c22f82-b882-439...|       hate|2021-01-27| negative|    5|studying|\n",
      "|97522e57-d9ab-4bd...|1932a904-86ba-443...|    peeking|2021-04-01|  neutral|   35|studying|\n",
      "|97522e57-d9ab-4bd...|                null|       love|2020-08-04| positive|   65|studying|\n",
      "|97522e57-d9ab-4bd...|f50ac030-3af8-4e0...|indifferent|2020-11-07|  neutral|   20|studying|\n",
      "|97522e57-d9ab-4bd...|b09e3125-2162-443...|     scared|2020-11-02| negative|   15|studying|\n",
      "|97522e57-d9ab-4bd...|b143cd2b-20b1-4e9...| interested|2020-11-01| positive|   30|studying|\n",
      "|97522e57-d9ab-4bd...|48e834aa-fd4a-420...|       hate|2020-10-07| negative|    5|studying|\n",
      "|97522e57-d9ab-4bd...|7246fed1-8725-4db...|     scared|2020-09-03| negative|   15|studying|\n",
      "|97522e57-d9ab-4bd...|9664d628-9163-4aa...| super love|2021-02-24| positive|   75|studying|\n",
      "|97522e57-d9ab-4bd...|2dd186bb-7a28-4e8...|    peeking|2020-09-23|  neutral|   35|studying|\n",
      "|97522e57-d9ab-4bd...|f4ed8f9c-5eac-4d7...|indifferent|2021-02-24|  neutral|   20|studying|\n",
      "|97522e57-d9ab-4bd...|5d454588-283d-459...| interested|2021-05-22| positive|   30|studying|\n",
      "|97522e57-d9ab-4bd...|                null|  intrigued|2021-01-31| positive|   45|studying|\n",
      "+--------------------+--------------------+-----------+----------+---------+-----+--------+\n",
      "only showing top 20 rows\n",
      "\n"
     ]
    }
   ],
   "source": [
    "df.show()"
   ]
  },
  {
   "cell_type": "code",
   "execution_count": 33,
   "id": "721b1499",
   "metadata": {},
   "outputs": [
    {
     "name": "stdout",
     "output_type": "stream",
     "text": [
      "root\n",
      " |-- Content_ID: string (nullable = true)\n",
      " |-- User_ID: string (nullable = true)\n",
      " |-- Type: string (nullable = true)\n",
      " |-- Datetime: string (nullable = true)\n",
      " |-- Sentiment: string (nullable = true)\n",
      " |-- Score: integer (nullable = true)\n",
      " |-- Category: string (nullable = true)\n",
      "\n"
     ]
    }
   ],
   "source": [
    "df.printSchema()"
   ]
  },
  {
   "cell_type": "code",
   "execution_count": 34,
   "id": "8d89eb3c",
   "metadata": {
    "scrolled": true
   },
   "outputs": [],
   "source": [
    "# Create a temporary table\n",
    "df.createOrReplaceTempView('df')"
   ]
  },
  {
   "cell_type": "code",
   "execution_count": 35,
   "id": "da2f22ac",
   "metadata": {},
   "outputs": [
    {
     "name": "stdout",
     "output_type": "stream",
     "text": [
      "+------------------------+\n",
      "|count(DISTINCT Category)|\n",
      "+------------------------+\n",
      "|                      16|\n",
      "+------------------------+\n",
      "\n"
     ]
    }
   ],
   "source": [
    "#Count distinct categories\n",
    "df.select(countDistinct(\"Category\")).show()"
   ]
  },
  {
   "cell_type": "code",
   "execution_count": 36,
   "id": "c93753ac",
   "metadata": {},
   "outputs": [],
   "source": [
    "# There are 16 distinct content categories that users usually post about on Social Buzz platform"
   ]
  },
  {
   "cell_type": "code",
   "execution_count": 37,
   "id": "9e566924",
   "metadata": {},
   "outputs": [
    {
     "name": "stdout",
     "output_type": "stream",
     "text": [
      "+-------------------------+\n",
      "|count(DISTINCT Sentiment)|\n",
      "+-------------------------+\n",
      "|                        3|\n",
      "+-------------------------+\n",
      "\n"
     ]
    }
   ],
   "source": [
    "#Count distinct Sentiment\n",
    "df.select(countDistinct(\"Sentiment\")).show()"
   ]
  },
  {
   "cell_type": "code",
   "execution_count": 38,
   "id": "83899812",
   "metadata": {},
   "outputs": [
    {
     "name": "stdout",
     "output_type": "stream",
     "text": [
      "+---------+\n",
      "|Sentiment|\n",
      "+---------+\n",
      "| positive|\n",
      "|  neutral|\n",
      "| negative|\n",
      "+---------+\n",
      "\n"
     ]
    }
   ],
   "source": [
    "df.select(\"Sentiment\").distinct().show()"
   ]
  },
  {
   "cell_type": "code",
   "execution_count": 39,
   "id": "1287951a",
   "metadata": {},
   "outputs": [],
   "source": [
    "# There are 3 types of sentimental reaction towards a content: positive, neutral and negative"
   ]
  },
  {
   "cell_type": "code",
   "execution_count": 40,
   "id": "f19286ac",
   "metadata": {},
   "outputs": [
    {
     "name": "stdout",
     "output_type": "stream",
     "text": [
      "+--------------+----------+\n",
      "|      Category|sum_scores|\n",
      "+--------------+----------+\n",
      "|       animals|     74965|\n",
      "|       science|     71168|\n",
      "|healthy eating|     69339|\n",
      "|    technology|     68738|\n",
      "|          food|     66676|\n",
      "+--------------+----------+\n",
      "\n"
     ]
    }
   ],
   "source": [
    "# Top 5 Categories based on sum of popularity scores\n",
    "spark.sql(\"SELECT Category,\\\n",
    "                  SUM(Score) as sum_scores\\\n",
    "          FROM df\\\n",
    "          GROUP BY Category\\\n",
    "          ORDER BY SUM(Score) DESC\\\n",
    "          LIMIT 5\").show()\n"
   ]
  },
  {
   "cell_type": "code",
   "execution_count": 41,
   "id": "6f66f245",
   "metadata": {},
   "outputs": [],
   "source": [
    "# Top 5 most popular categories of posts are animals, science, healthy eating, technology and food in a descending order.\n",
    "\n",
    "# Animals had an aggregate popularity score of around 75K. \n",
    "# It is very interesting to see both food and healthy eating within the top 5, \n",
    "# it really shows what people enjoy food-related content. \n",
    "# But also interesting to see technology & science in the most popular content categories too. \n",
    "#Fairly speaking, users favor \"real-life\" content on this platform.\n"
   ]
  },
  {
   "cell_type": "code",
   "execution_count": 42,
   "id": "ee9c34da",
   "metadata": {},
   "outputs": [
    {
     "name": "stdout",
     "output_type": "stream",
     "text": [
      "+--------------+-----------+\n",
      "|      Category|count_posts|\n",
      "+--------------+-----------+\n",
      "|       animals|       1897|\n",
      "|       science|       1796|\n",
      "|healthy eating|       1717|\n",
      "|          food|       1699|\n",
      "|    technology|       1698|\n",
      "+--------------+-----------+\n",
      "\n"
     ]
    }
   ],
   "source": [
    "# Top 5 Categories based on sum of popularity scores\n",
    "spark.sql(\"SELECT Category,\\\n",
    "                  COUNT(Content_ID) AS count_posts\\\n",
    "          FROM df\\\n",
    "          GROUP BY Category\\\n",
    "          ORDER BY COUNT(Content_ID) DESC\\\n",
    "          LIMIT 5\").show()\n"
   ]
  },
  {
   "cell_type": "code",
   "execution_count": null,
   "id": "163f8603",
   "metadata": {},
   "outputs": [],
   "source": [
    "# It is interesting to see that Categories with higher number of posts will also receiver higher scores"
   ]
  },
  {
   "cell_type": "code",
   "execution_count": 67,
   "id": "f693d93e",
   "metadata": {},
   "outputs": [
    {
     "name": "stdout",
     "output_type": "stream",
     "text": [
      "+-----+-----------+\n",
      "|Month|count_posts|\n",
      "+-----+-----------+\n",
      "|    5|       2138|\n",
      "|    1|       2126|\n",
      "|    8|       2114|\n",
      "|   12|       2092|\n",
      "|    7|       2070|\n",
      "|   10|       2056|\n",
      "|   11|       2034|\n",
      "|    9|       2022|\n",
      "|    6|       2021|\n",
      "|    3|       2012|\n",
      "|    4|       1974|\n",
      "|    2|       1914|\n",
      "+-----+-----------+\n",
      "\n"
     ]
    }
   ],
   "source": [
    "# Total number of posts each month\n",
    "spark.sql(\"SELECT month(Datetime) AS Month,\\\n",
    "                  COUNT(Content_ID) AS count_posts\\\n",
    "          FROM df\\\n",
    "          GROUP BY Month\\\n",
    "          ORDER BY count_posts DESC\\\n",
    "          \").show()\n"
   ]
  },
  {
   "cell_type": "code",
   "execution_count": null,
   "id": "fa2fe9cf",
   "metadata": {},
   "outputs": [],
   "source": [
    "# The most common month for users to post within was May, January, August & December\n",
    "#since these are seasonal months with  many holidays and events, \n",
    "#this is interesting to know that people are most active during these months!\n"
   ]
  }
 ],
 "metadata": {
  "kernelspec": {
   "display_name": "Python 3 (ipykernel)",
   "language": "python",
   "name": "python3"
  },
  "language_info": {
   "codemirror_mode": {
    "name": "ipython",
    "version": 3
   },
   "file_extension": ".py",
   "mimetype": "text/x-python",
   "name": "python",
   "nbconvert_exporter": "python",
   "pygments_lexer": "ipython3",
   "version": "3.9.7"
  }
 },
 "nbformat": 4,
 "nbformat_minor": 5
}
