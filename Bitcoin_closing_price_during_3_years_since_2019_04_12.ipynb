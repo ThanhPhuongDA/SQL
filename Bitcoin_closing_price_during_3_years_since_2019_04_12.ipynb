{
  "nbformat": 4,
  "nbformat_minor": 0,
  "metadata": {
    "colab": {
      "name": "Bitcoin closing price during 3 years since 2019-04-12.ipynb",
      "provenance": [],
      "collapsed_sections": [],
      "authorship_tag": "ABX9TyNnTNiCwJ1eqEuofGgiycO3",
      "include_colab_link": true
    },
    "kernelspec": {
      "name": "python3",
      "display_name": "Python 3"
    },
    "language_info": {
      "name": "python"
    }
  },
  "cells": [
    {
      "cell_type": "markdown",
      "metadata": {
        "id": "view-in-github",
        "colab_type": "text"
      },
      "source": [
        "<a href=\"https://colab.research.google.com/github/ThanhPhuongDA/SQL/blob/main/Bitcoin_closing_price_during_3_years_since_2019_04_12.ipynb\" target=\"_parent\"><img src=\"https://colab.research.google.com/assets/colab-badge.svg\" alt=\"Open In Colab\"/></a>"
      ]
    },
    {
      "cell_type": "code",
      "execution_count": 1,
      "metadata": {
        "id": "uyLiVl8AG6OO"
      },
      "outputs": [],
      "source": [
        "# This project aims to get Historical Bitcoin price data in the last 3 years using Python and SQL.\n"
      ]
    },
    {
      "cell_type": "code",
      "source": [
        "import pandas as pd\n",
        "!pip install yfinance"
      ],
      "metadata": {
        "colab": {
          "base_uri": "https://localhost:8080/"
        },
        "id": "8W4-BUwuGFMU",
        "outputId": "f8e983a9-391b-42bb-fc5c-5df47d1280dd"
      },
      "execution_count": 2,
      "outputs": [
        {
          "output_type": "stream",
          "name": "stdout",
          "text": [
            "Requirement already satisfied: yfinance in /usr/local/lib/python3.7/dist-packages (0.1.70)\n",
            "Requirement already satisfied: lxml>=4.5.1 in /usr/local/lib/python3.7/dist-packages (from yfinance) (4.8.0)\n",
            "Requirement already satisfied: multitasking>=0.0.7 in /usr/local/lib/python3.7/dist-packages (from yfinance) (0.0.10)\n",
            "Requirement already satisfied: numpy>=1.15 in /usr/local/lib/python3.7/dist-packages (from yfinance) (1.21.5)\n",
            "Requirement already satisfied: pandas>=0.24.0 in /usr/local/lib/python3.7/dist-packages (from yfinance) (1.3.5)\n",
            "Requirement already satisfied: requests>=2.26 in /usr/local/lib/python3.7/dist-packages (from yfinance) (2.27.1)\n",
            "Requirement already satisfied: python-dateutil>=2.7.3 in /usr/local/lib/python3.7/dist-packages (from pandas>=0.24.0->yfinance) (2.8.2)\n",
            "Requirement already satisfied: pytz>=2017.3 in /usr/local/lib/python3.7/dist-packages (from pandas>=0.24.0->yfinance) (2018.9)\n",
            "Requirement already satisfied: six>=1.5 in /usr/local/lib/python3.7/dist-packages (from python-dateutil>=2.7.3->pandas>=0.24.0->yfinance) (1.15.0)\n",
            "Requirement already satisfied: charset-normalizer~=2.0.0 in /usr/local/lib/python3.7/dist-packages (from requests>=2.26->yfinance) (2.0.12)\n",
            "Requirement already satisfied: certifi>=2017.4.17 in /usr/local/lib/python3.7/dist-packages (from requests>=2.26->yfinance) (2021.10.8)\n",
            "Requirement already satisfied: urllib3<1.27,>=1.21.1 in /usr/local/lib/python3.7/dist-packages (from requests>=2.26->yfinance) (1.24.3)\n",
            "Requirement already satisfied: idna<4,>=2.5 in /usr/local/lib/python3.7/dist-packages (from requests>=2.26->yfinance) (2.10)\n"
          ]
        }
      ]
    },
    {
      "cell_type": "code",
      "source": [
        "#Import libraries yfinance, which is not affiliated, endorsed, or vetted by Yahoo, Inc. \n",
        "#It's an open-source tool that uses Yahoo's publicly available APIs, and is intended for research and educational purposes.\n",
        "\n",
        "import yfinance as yf"
      ],
      "metadata": {
        "id": "8sZRCVFgIWJt"
      },
      "execution_count": 3,
      "outputs": []
    },
    {
      "cell_type": "code",
      "source": [
        "# Get the data from https://finance.yahoo.com/quote/BTC-USD/history?p=BTC-USD by using the The Ticker module\n",
        "# For more information, I would refer to this https://github.com/ranaroussi/yfinance/blob/main/README.md"
      ],
      "metadata": {
        "id": "kWo56E-IA5YB"
      },
      "execution_count": 4,
      "outputs": []
    },
    {
      "cell_type": "code",
      "source": [
        "df = yf.Ticker(\"BTC-USD\").history(period=\"3y\",interval =\"1d\")"
      ],
      "metadata": {
        "id": "uT1mm0JlPtcf"
      },
      "execution_count": 5,
      "outputs": []
    },
    {
      "cell_type": "code",
      "source": [
        "print(df.head())"
      ],
      "metadata": {
        "colab": {
          "base_uri": "https://localhost:8080/"
        },
        "id": "-PTLVxu0Ip9I",
        "outputId": "64d42d9d-1432-46ce-bc67-8e59b8839560"
      },
      "execution_count": 6,
      "outputs": [
        {
          "output_type": "stream",
          "name": "stdout",
          "text": [
            "                   Open         High          Low        Close       Volume  \\\n",
            "Date                                                                          \n",
            "2019-04-12  5061.200684  5103.274414  4955.852539  5089.539062  13675206312   \n",
            "2019-04-13  5088.850098  5127.122070  5061.589355  5096.586426  10823289598   \n",
            "2019-04-14  5095.758789  5184.016113  5053.568359  5167.722168  10391952498   \n",
            "2019-04-15  5167.321777  5196.606934  5024.069336  5067.108398  12290155061   \n",
            "2019-04-16  5066.577637  5238.945312  5055.194824  5235.559570  11618660197   \n",
            "\n",
            "            Dividends  Stock Splits  \n",
            "Date                                 \n",
            "2019-04-12          0             0  \n",
            "2019-04-13          0             0  \n",
            "2019-04-14          0             0  \n",
            "2019-04-15          0             0  \n",
            "2019-04-16          0             0  \n"
          ]
        }
      ]
    },
    {
      "cell_type": "code",
      "source": [
        "df.shape"
      ],
      "metadata": {
        "colab": {
          "base_uri": "https://localhost:8080/"
        },
        "id": "ajIwny3OIvRs",
        "outputId": "41e9ef7e-18c5-47ca-fc57-0940c49df0f3"
      },
      "execution_count": 7,
      "outputs": [
        {
          "output_type": "execute_result",
          "data": {
            "text/plain": [
              "(1097, 7)"
            ]
          },
          "metadata": {},
          "execution_count": 7
        }
      ]
    },
    {
      "cell_type": "code",
      "source": [
        "# Save the file to disk space in CSV format"
      ],
      "metadata": {
        "id": "1Rh_TTNMHCNj"
      },
      "execution_count": 8,
      "outputs": []
    },
    {
      "cell_type": "code",
      "source": [
        "df.to_csv('bitcoin.csv')        \n"
      ],
      "metadata": {
        "id": "JJiocIfIJCNs"
      },
      "execution_count": 9,
      "outputs": []
    },
    {
      "cell_type": "code",
      "source": [
        "import csv\n",
        "import sqlite3"
      ],
      "metadata": {
        "id": "55jThsb7JFUL"
      },
      "execution_count": 10,
      "outputs": []
    },
    {
      "cell_type": "code",
      "source": [
        "database = 'tds.sqlite'\n"
      ],
      "metadata": {
        "id": "TTVRbCG87FtZ"
      },
      "execution_count": 11,
      "outputs": []
    },
    {
      "cell_type": "code",
      "source": [
        "conn = sqlite3.connect(database)\n",
        "cur = conn.cursor()"
      ],
      "metadata": {
        "id": "U82TxLR17Jvb"
      },
      "execution_count": 12,
      "outputs": []
    },
    {
      "cell_type": "code",
      "source": [
        "#Before creating the table, let’s drop the table with the below line of code if it is already present in the database.\n",
        "drop_table_query = \"DROP TABLE IF EXISTS bitcoin\"\n",
        "cur.execute(drop_table_query)\n",
        "conn.commit()"
      ],
      "metadata": {
        "id": "LnCCqcLn7K9i"
      },
      "execution_count": 13,
      "outputs": []
    },
    {
      "cell_type": "code",
      "source": [
        "#Now, let’s create a new table named bitcoin\n",
        "\n",
        "create_table_query = \"CREATE TABLE IF NOT EXISTS bitcoin(\\\n",
        "                        Date String, Open REAL,\\\n",
        "                        High REAL, Low REAL,\\\n",
        "                        Close REAL,Volume INTEGER,Dividends INTEGER,\\\n",
        "                        Stock_Splits INTEGER)\"\n",
        "cur.execute(create_table_query)\n",
        "conn.commit()"
      ],
      "metadata": {
        "id": "_z4lDGaZ7OJ-"
      },
      "execution_count": 14,
      "outputs": []
    },
    {
      "cell_type": "code",
      "source": [
        "#After creating the table, quickly check if the table is created with the required columns.\n",
        "\n",
        "check_table_cols = \"SELECT * FROM bitcoin\"\n",
        "cur.execute(check_table_cols)\n",
        "col_name_list = [tuple[0] for tuple in cur.description]\n",
        "col_name_list"
      ],
      "metadata": {
        "colab": {
          "base_uri": "https://localhost:8080/"
        },
        "id": "vgQ9-81q7ULE",
        "outputId": "cf55ed00-2eb7-459b-feb7-1fdbd99b8f7e"
      },
      "execution_count": 15,
      "outputs": [
        {
          "output_type": "execute_result",
          "data": {
            "text/plain": [
              "['Date', 'Open', 'High', 'Low', 'Close', 'Volume', 'Dividends', 'Stock_Splits']"
            ]
          },
          "metadata": {},
          "execution_count": 15
        }
      ]
    },
    {
      "cell_type": "code",
      "source": [
        "#Read the data from the CSV File\n",
        "\n",
        "df = pd.read_csv(\"bitcoin.csv\", header=1) \n",
        "df.columns = ['Date', 'Open', 'High', 'Low', 'Close', 'Volume', 'Dividends', 'Stock_Splits']\n",
        "df.head(10)"
      ],
      "metadata": {
        "colab": {
          "base_uri": "https://localhost:8080/",
          "height": 362
        },
        "id": "zYucezFZ7aB_",
        "outputId": "5953be41-bc0d-4601-e515-cca34bb9ee80"
      },
      "execution_count": 16,
      "outputs": [
        {
          "output_type": "execute_result",
          "data": {
            "text/plain": [
              "         Date         Open         High          Low        Close  \\\n",
              "0  2019-04-13  5088.850098  5127.122070  5061.589355  5096.586426   \n",
              "1  2019-04-14  5095.758789  5184.016113  5053.568359  5167.722168   \n",
              "2  2019-04-15  5167.321777  5196.606934  5024.069336  5067.108398   \n",
              "3  2019-04-16  5066.577637  5238.945312  5055.194824  5235.559570   \n",
              "4  2019-04-17  5236.135254  5274.275391  5219.205566  5251.937988   \n",
              "5  2019-04-18  5251.480469  5319.986328  5250.506836  5298.385742   \n",
              "6  2019-04-19  5298.154297  5336.680176  5233.334961  5303.812500   \n",
              "7  2019-04-20  5304.160645  5358.490723  5295.877930  5337.886230   \n",
              "8  2019-04-21  5335.878906  5359.924805  5257.339355  5314.531250   \n",
              "9  2019-04-22  5312.494629  5422.687500  5280.276855  5399.365234   \n",
              "\n",
              "        Volume  Dividends  Stock_Splits  \n",
              "0  10823289598          0             0  \n",
              "1  10391952498          0             0  \n",
              "2  12290155061          0             0  \n",
              "3  11618660197          0             0  \n",
              "4  12438480677          0             0  \n",
              "5  13256489918          0             0  \n",
              "6  13780238655          0             0  \n",
              "7  13169647522          0             0  \n",
              "8  13731844223          0             0  \n",
              "9  14601631648          0             0  "
            ],
            "text/html": [
              "\n",
              "  <div id=\"df-603defa3-d520-446e-837a-a1e1b01b84c0\">\n",
              "    <div class=\"colab-df-container\">\n",
              "      <div>\n",
              "<style scoped>\n",
              "    .dataframe tbody tr th:only-of-type {\n",
              "        vertical-align: middle;\n",
              "    }\n",
              "\n",
              "    .dataframe tbody tr th {\n",
              "        vertical-align: top;\n",
              "    }\n",
              "\n",
              "    .dataframe thead th {\n",
              "        text-align: right;\n",
              "    }\n",
              "</style>\n",
              "<table border=\"1\" class=\"dataframe\">\n",
              "  <thead>\n",
              "    <tr style=\"text-align: right;\">\n",
              "      <th></th>\n",
              "      <th>Date</th>\n",
              "      <th>Open</th>\n",
              "      <th>High</th>\n",
              "      <th>Low</th>\n",
              "      <th>Close</th>\n",
              "      <th>Volume</th>\n",
              "      <th>Dividends</th>\n",
              "      <th>Stock_Splits</th>\n",
              "    </tr>\n",
              "  </thead>\n",
              "  <tbody>\n",
              "    <tr>\n",
              "      <th>0</th>\n",
              "      <td>2019-04-13</td>\n",
              "      <td>5088.850098</td>\n",
              "      <td>5127.122070</td>\n",
              "      <td>5061.589355</td>\n",
              "      <td>5096.586426</td>\n",
              "      <td>10823289598</td>\n",
              "      <td>0</td>\n",
              "      <td>0</td>\n",
              "    </tr>\n",
              "    <tr>\n",
              "      <th>1</th>\n",
              "      <td>2019-04-14</td>\n",
              "      <td>5095.758789</td>\n",
              "      <td>5184.016113</td>\n",
              "      <td>5053.568359</td>\n",
              "      <td>5167.722168</td>\n",
              "      <td>10391952498</td>\n",
              "      <td>0</td>\n",
              "      <td>0</td>\n",
              "    </tr>\n",
              "    <tr>\n",
              "      <th>2</th>\n",
              "      <td>2019-04-15</td>\n",
              "      <td>5167.321777</td>\n",
              "      <td>5196.606934</td>\n",
              "      <td>5024.069336</td>\n",
              "      <td>5067.108398</td>\n",
              "      <td>12290155061</td>\n",
              "      <td>0</td>\n",
              "      <td>0</td>\n",
              "    </tr>\n",
              "    <tr>\n",
              "      <th>3</th>\n",
              "      <td>2019-04-16</td>\n",
              "      <td>5066.577637</td>\n",
              "      <td>5238.945312</td>\n",
              "      <td>5055.194824</td>\n",
              "      <td>5235.559570</td>\n",
              "      <td>11618660197</td>\n",
              "      <td>0</td>\n",
              "      <td>0</td>\n",
              "    </tr>\n",
              "    <tr>\n",
              "      <th>4</th>\n",
              "      <td>2019-04-17</td>\n",
              "      <td>5236.135254</td>\n",
              "      <td>5274.275391</td>\n",
              "      <td>5219.205566</td>\n",
              "      <td>5251.937988</td>\n",
              "      <td>12438480677</td>\n",
              "      <td>0</td>\n",
              "      <td>0</td>\n",
              "    </tr>\n",
              "    <tr>\n",
              "      <th>5</th>\n",
              "      <td>2019-04-18</td>\n",
              "      <td>5251.480469</td>\n",
              "      <td>5319.986328</td>\n",
              "      <td>5250.506836</td>\n",
              "      <td>5298.385742</td>\n",
              "      <td>13256489918</td>\n",
              "      <td>0</td>\n",
              "      <td>0</td>\n",
              "    </tr>\n",
              "    <tr>\n",
              "      <th>6</th>\n",
              "      <td>2019-04-19</td>\n",
              "      <td>5298.154297</td>\n",
              "      <td>5336.680176</td>\n",
              "      <td>5233.334961</td>\n",
              "      <td>5303.812500</td>\n",
              "      <td>13780238655</td>\n",
              "      <td>0</td>\n",
              "      <td>0</td>\n",
              "    </tr>\n",
              "    <tr>\n",
              "      <th>7</th>\n",
              "      <td>2019-04-20</td>\n",
              "      <td>5304.160645</td>\n",
              "      <td>5358.490723</td>\n",
              "      <td>5295.877930</td>\n",
              "      <td>5337.886230</td>\n",
              "      <td>13169647522</td>\n",
              "      <td>0</td>\n",
              "      <td>0</td>\n",
              "    </tr>\n",
              "    <tr>\n",
              "      <th>8</th>\n",
              "      <td>2019-04-21</td>\n",
              "      <td>5335.878906</td>\n",
              "      <td>5359.924805</td>\n",
              "      <td>5257.339355</td>\n",
              "      <td>5314.531250</td>\n",
              "      <td>13731844223</td>\n",
              "      <td>0</td>\n",
              "      <td>0</td>\n",
              "    </tr>\n",
              "    <tr>\n",
              "      <th>9</th>\n",
              "      <td>2019-04-22</td>\n",
              "      <td>5312.494629</td>\n",
              "      <td>5422.687500</td>\n",
              "      <td>5280.276855</td>\n",
              "      <td>5399.365234</td>\n",
              "      <td>14601631648</td>\n",
              "      <td>0</td>\n",
              "      <td>0</td>\n",
              "    </tr>\n",
              "  </tbody>\n",
              "</table>\n",
              "</div>\n",
              "      <button class=\"colab-df-convert\" onclick=\"convertToInteractive('df-603defa3-d520-446e-837a-a1e1b01b84c0')\"\n",
              "              title=\"Convert this dataframe to an interactive table.\"\n",
              "              style=\"display:none;\">\n",
              "        \n",
              "  <svg xmlns=\"http://www.w3.org/2000/svg\" height=\"24px\"viewBox=\"0 0 24 24\"\n",
              "       width=\"24px\">\n",
              "    <path d=\"M0 0h24v24H0V0z\" fill=\"none\"/>\n",
              "    <path d=\"M18.56 5.44l.94 2.06.94-2.06 2.06-.94-2.06-.94-.94-2.06-.94 2.06-2.06.94zm-11 1L8.5 8.5l.94-2.06 2.06-.94-2.06-.94L8.5 2.5l-.94 2.06-2.06.94zm10 10l.94 2.06.94-2.06 2.06-.94-2.06-.94-.94-2.06-.94 2.06-2.06.94z\"/><path d=\"M17.41 7.96l-1.37-1.37c-.4-.4-.92-.59-1.43-.59-.52 0-1.04.2-1.43.59L10.3 9.45l-7.72 7.72c-.78.78-.78 2.05 0 2.83L4 21.41c.39.39.9.59 1.41.59.51 0 1.02-.2 1.41-.59l7.78-7.78 2.81-2.81c.8-.78.8-2.07 0-2.86zM5.41 20L4 18.59l7.72-7.72 1.47 1.35L5.41 20z\"/>\n",
              "  </svg>\n",
              "      </button>\n",
              "      \n",
              "  <style>\n",
              "    .colab-df-container {\n",
              "      display:flex;\n",
              "      flex-wrap:wrap;\n",
              "      gap: 12px;\n",
              "    }\n",
              "\n",
              "    .colab-df-convert {\n",
              "      background-color: #E8F0FE;\n",
              "      border: none;\n",
              "      border-radius: 50%;\n",
              "      cursor: pointer;\n",
              "      display: none;\n",
              "      fill: #1967D2;\n",
              "      height: 32px;\n",
              "      padding: 0 0 0 0;\n",
              "      width: 32px;\n",
              "    }\n",
              "\n",
              "    .colab-df-convert:hover {\n",
              "      background-color: #E2EBFA;\n",
              "      box-shadow: 0px 1px 2px rgba(60, 64, 67, 0.3), 0px 1px 3px 1px rgba(60, 64, 67, 0.15);\n",
              "      fill: #174EA6;\n",
              "    }\n",
              "\n",
              "    [theme=dark] .colab-df-convert {\n",
              "      background-color: #3B4455;\n",
              "      fill: #D2E3FC;\n",
              "    }\n",
              "\n",
              "    [theme=dark] .colab-df-convert:hover {\n",
              "      background-color: #434B5C;\n",
              "      box-shadow: 0px 1px 3px 1px rgba(0, 0, 0, 0.15);\n",
              "      filter: drop-shadow(0px 1px 2px rgba(0, 0, 0, 0.3));\n",
              "      fill: #FFFFFF;\n",
              "    }\n",
              "  </style>\n",
              "\n",
              "      <script>\n",
              "        const buttonEl =\n",
              "          document.querySelector('#df-603defa3-d520-446e-837a-a1e1b01b84c0 button.colab-df-convert');\n",
              "        buttonEl.style.display =\n",
              "          google.colab.kernel.accessAllowed ? 'block' : 'none';\n",
              "\n",
              "        async function convertToInteractive(key) {\n",
              "          const element = document.querySelector('#df-603defa3-d520-446e-837a-a1e1b01b84c0');\n",
              "          const dataTable =\n",
              "            await google.colab.kernel.invokeFunction('convertToInteractive',\n",
              "                                                     [key], {});\n",
              "          if (!dataTable) return;\n",
              "\n",
              "          const docLinkHtml = 'Like what you see? Visit the ' +\n",
              "            '<a target=\"_blank\" href=https://colab.research.google.com/notebooks/data_table.ipynb>data table notebook</a>'\n",
              "            + ' to learn more about interactive tables.';\n",
              "          element.innerHTML = '';\n",
              "          dataTable['output_type'] = 'display_data';\n",
              "          await google.colab.output.renderOutput(dataTable, element);\n",
              "          const docLink = document.createElement('div');\n",
              "          docLink.innerHTML = docLinkHtml;\n",
              "          element.appendChild(docLink);\n",
              "        }\n",
              "      </script>\n",
              "    </div>\n",
              "  </div>\n",
              "  "
            ]
          },
          "metadata": {},
          "execution_count": 16
        }
      ]
    },
    {
      "cell_type": "code",
      "source": [
        "df.isna().sum().plot(kind='barh')\n"
      ],
      "metadata": {
        "colab": {
          "base_uri": "https://localhost:8080/",
          "height": 282
        },
        "id": "MEP-Jz45HvmI",
        "outputId": "bdce9672-34b6-4131-e3f2-a6ec5e3b2764"
      },
      "execution_count": 17,
      "outputs": [
        {
          "output_type": "execute_result",
          "data": {
            "text/plain": [
              "<matplotlib.axes._subplots.AxesSubplot at 0x7ff29135e7d0>"
            ]
          },
          "metadata": {},
          "execution_count": 17
        },
        {
          "output_type": "display_data",
          "data": {
            "text/plain": [
              "<Figure size 432x288 with 1 Axes>"
            ],
            "image/png": "[encoded data removed]"
          },
          "metadata": {
            "needs_background": "light"
          }
        }
      ]
    },
    {
      "cell_type": "code",
      "source": [
        "#Looks like, there are NO null values in the dataset.\n",
        "#There are still some unwanted columns in the dataset, so that these columns shall not be pushed into SQLite Database. \n",
        "# Hence, let's select the subset of this data."
      ],
      "metadata": {
        "id": "4lq0ygcnH7rv"
      },
      "execution_count": 18,
      "outputs": []
    },
    {
      "cell_type": "code",
      "source": [
        "subdf = df [[\"Date\", \"Open\", \"High\",\\\n",
        "             \"Low\",\"Close\", \"Volume\"]]\n",
        "subdf.head(10)"
      ],
      "metadata": {
        "colab": {
          "base_uri": "https://localhost:8080/",
          "height": 362
        },
        "id": "faF0ODfXIlz-",
        "outputId": "051bfd2e-642d-4e9d-e898-e2a09e05ef23"
      },
      "execution_count": 19,
      "outputs": [
        {
          "output_type": "execute_result",
          "data": {
            "text/plain": [
              "         Date         Open         High          Low        Close       Volume\n",
              "0  2019-04-13  5088.850098  5127.122070  5061.589355  5096.586426  10823289598\n",
              "1  2019-04-14  5095.758789  5184.016113  5053.568359  5167.722168  10391952498\n",
              "2  2019-04-15  5167.321777  5196.606934  5024.069336  5067.108398  12290155061\n",
              "3  2019-04-16  5066.577637  5238.945312  5055.194824  5235.559570  11618660197\n",
              "4  2019-04-17  5236.135254  5274.275391  5219.205566  5251.937988  12438480677\n",
              "5  2019-04-18  5251.480469  5319.986328  5250.506836  5298.385742  13256489918\n",
              "6  2019-04-19  5298.154297  5336.680176  5233.334961  5303.812500  13780238655\n",
              "7  2019-04-20  5304.160645  5358.490723  5295.877930  5337.886230  13169647522\n",
              "8  2019-04-21  5335.878906  5359.924805  5257.339355  5314.531250  13731844223\n",
              "9  2019-04-22  5312.494629  5422.687500  5280.276855  5399.365234  14601631648"
            ],
            "text/html": [
              "\n",
              "  <div id=\"df-033ff017-b869-481e-9d53-ae1f1199c8eb\">\n",
              "    <div class=\"colab-df-container\">\n",
              "      <div>\n",
              "<style scoped>\n",
              "    .dataframe tbody tr th:only-of-type {\n",
              "        vertical-align: middle;\n",
              "    }\n",
              "\n",
              "    .dataframe tbody tr th {\n",
              "        vertical-align: top;\n",
              "    }\n",
              "\n",
              "    .dataframe thead th {\n",
              "        text-align: right;\n",
              "    }\n",
              "</style>\n",
              "<table border=\"1\" class=\"dataframe\">\n",
              "  <thead>\n",
              "    <tr style=\"text-align: right;\">\n",
              "      <th></th>\n",
              "      <th>Date</th>\n",
              "      <th>Open</th>\n",
              "      <th>High</th>\n",
              "      <th>Low</th>\n",
              "      <th>Close</th>\n",
              "      <th>Volume</th>\n",
              "    </tr>\n",
              "  </thead>\n",
              "  <tbody>\n",
              "    <tr>\n",
              "      <th>0</th>\n",
              "      <td>2019-04-13</td>\n",
              "      <td>5088.850098</td>\n",
              "      <td>5127.122070</td>\n",
              "      <td>5061.589355</td>\n",
              "      <td>5096.586426</td>\n",
              "      <td>10823289598</td>\n",
              "    </tr>\n",
              "    <tr>\n",
              "      <th>1</th>\n",
              "      <td>2019-04-14</td>\n",
              "      <td>5095.758789</td>\n",
              "      <td>5184.016113</td>\n",
              "      <td>5053.568359</td>\n",
              "      <td>5167.722168</td>\n",
              "      <td>10391952498</td>\n",
              "    </tr>\n",
              "    <tr>\n",
              "      <th>2</th>\n",
              "      <td>2019-04-15</td>\n",
              "      <td>5167.321777</td>\n",
              "      <td>5196.606934</td>\n",
              "      <td>5024.069336</td>\n",
              "      <td>5067.108398</td>\n",
              "      <td>12290155061</td>\n",
              "    </tr>\n",
              "    <tr>\n",
              "      <th>3</th>\n",
              "      <td>2019-04-16</td>\n",
              "      <td>5066.577637</td>\n",
              "      <td>5238.945312</td>\n",
              "      <td>5055.194824</td>\n",
              "      <td>5235.559570</td>\n",
              "      <td>11618660197</td>\n",
              "    </tr>\n",
              "    <tr>\n",
              "      <th>4</th>\n",
              "      <td>2019-04-17</td>\n",
              "      <td>5236.135254</td>\n",
              "      <td>5274.275391</td>\n",
              "      <td>5219.205566</td>\n",
              "      <td>5251.937988</td>\n",
              "      <td>12438480677</td>\n",
              "    </tr>\n",
              "    <tr>\n",
              "      <th>5</th>\n",
              "      <td>2019-04-18</td>\n",
              "      <td>5251.480469</td>\n",
              "      <td>5319.986328</td>\n",
              "      <td>5250.506836</td>\n",
              "      <td>5298.385742</td>\n",
              "      <td>13256489918</td>\n",
              "    </tr>\n",
              "    <tr>\n",
              "      <th>6</th>\n",
              "      <td>2019-04-19</td>\n",
              "      <td>5298.154297</td>\n",
              "      <td>5336.680176</td>\n",
              "      <td>5233.334961</td>\n",
              "      <td>5303.812500</td>\n",
              "      <td>13780238655</td>\n",
              "    </tr>\n",
              "    <tr>\n",
              "      <th>7</th>\n",
              "      <td>2019-04-20</td>\n",
              "      <td>5304.160645</td>\n",
              "      <td>5358.490723</td>\n",
              "      <td>5295.877930</td>\n",
              "      <td>5337.886230</td>\n",
              "      <td>13169647522</td>\n",
              "    </tr>\n",
              "    <tr>\n",
              "      <th>8</th>\n",
              "      <td>2019-04-21</td>\n",
              "      <td>5335.878906</td>\n",
              "      <td>5359.924805</td>\n",
              "      <td>5257.339355</td>\n",
              "      <td>5314.531250</td>\n",
              "      <td>13731844223</td>\n",
              "    </tr>\n",
              "    <tr>\n",
              "      <th>9</th>\n",
              "      <td>2019-04-22</td>\n",
              "      <td>5312.494629</td>\n",
              "      <td>5422.687500</td>\n",
              "      <td>5280.276855</td>\n",
              "      <td>5399.365234</td>\n",
              "      <td>14601631648</td>\n",
              "    </tr>\n",
              "  </tbody>\n",
              "</table>\n",
              "</div>\n",
              "      <button class=\"colab-df-convert\" onclick=\"convertToInteractive('df-033ff017-b869-481e-9d53-ae1f1199c8eb')\"\n",
              "              title=\"Convert this dataframe to an interactive table.\"\n",
              "              style=\"display:none;\">\n",
              "        \n",
              "  <svg xmlns=\"http://www.w3.org/2000/svg\" height=\"24px\"viewBox=\"0 0 24 24\"\n",
              "       width=\"24px\">\n",
              "    <path d=\"M0 0h24v24H0V0z\" fill=\"none\"/>\n",
              "    <path d=\"M18.56 5.44l.94 2.06.94-2.06 2.06-.94-2.06-.94-.94-2.06-.94 2.06-2.06.94zm-11 1L8.5 8.5l.94-2.06 2.06-.94-2.06-.94L8.5 2.5l-.94 2.06-2.06.94zm10 10l.94 2.06.94-2.06 2.06-.94-2.06-.94-.94-2.06-.94 2.06-2.06.94z\"/><path d=\"M17.41 7.96l-1.37-1.37c-.4-.4-.92-.59-1.43-.59-.52 0-1.04.2-1.43.59L10.3 9.45l-7.72 7.72c-.78.78-.78 2.05 0 2.83L4 21.41c.39.39.9.59 1.41.59.51 0 1.02-.2 1.41-.59l7.78-7.78 2.81-2.81c.8-.78.8-2.07 0-2.86zM5.41 20L4 18.59l7.72-7.72 1.47 1.35L5.41 20z\"/>\n",
              "  </svg>\n",
              "      </button>\n",
              "      \n",
              "  <style>\n",
              "    .colab-df-container {\n",
              "      display:flex;\n",
              "      flex-wrap:wrap;\n",
              "      gap: 12px;\n",
              "    }\n",
              "\n",
              "    .colab-df-convert {\n",
              "      background-color: #E8F0FE;\n",
              "      border: none;\n",
              "      border-radius: 50%;\n",
              "      cursor: pointer;\n",
              "      display: none;\n",
              "      fill: #1967D2;\n",
              "      height: 32px;\n",
              "      padding: 0 0 0 0;\n",
              "      width: 32px;\n",
              "    }\n",
              "\n",
              "    .colab-df-convert:hover {\n",
              "      background-color: #E2EBFA;\n",
              "      box-shadow: 0px 1px 2px rgba(60, 64, 67, 0.3), 0px 1px 3px 1px rgba(60, 64, 67, 0.15);\n",
              "      fill: #174EA6;\n",
              "    }\n",
              "\n",
              "    [theme=dark] .colab-df-convert {\n",
              "      background-color: #3B4455;\n",
              "      fill: #D2E3FC;\n",
              "    }\n",
              "\n",
              "    [theme=dark] .colab-df-convert:hover {\n",
              "      background-color: #434B5C;\n",
              "      box-shadow: 0px 1px 3px 1px rgba(0, 0, 0, 0.15);\n",
              "      filter: drop-shadow(0px 1px 2px rgba(0, 0, 0, 0.3));\n",
              "      fill: #FFFFFF;\n",
              "    }\n",
              "  </style>\n",
              "\n",
              "      <script>\n",
              "        const buttonEl =\n",
              "          document.querySelector('#df-033ff017-b869-481e-9d53-ae1f1199c8eb button.colab-df-convert');\n",
              "        buttonEl.style.display =\n",
              "          google.colab.kernel.accessAllowed ? 'block' : 'none';\n",
              "\n",
              "        async function convertToInteractive(key) {\n",
              "          const element = document.querySelector('#df-033ff017-b869-481e-9d53-ae1f1199c8eb');\n",
              "          const dataTable =\n",
              "            await google.colab.kernel.invokeFunction('convertToInteractive',\n",
              "                                                     [key], {});\n",
              "          if (!dataTable) return;\n",
              "\n",
              "          const docLinkHtml = 'Like what you see? Visit the ' +\n",
              "            '<a target=\"_blank\" href=https://colab.research.google.com/notebooks/data_table.ipynb>data table notebook</a>'\n",
              "            + ' to learn more about interactive tables.';\n",
              "          element.innerHTML = '';\n",
              "          dataTable['output_type'] = 'display_data';\n",
              "          await google.colab.output.renderOutput(dataTable, element);\n",
              "          const docLink = document.createElement('div');\n",
              "          docLink.innerHTML = docLinkHtml;\n",
              "          element.appendChild(docLink);\n",
              "        }\n",
              "      </script>\n",
              "    </div>\n",
              "  </div>\n",
              "  "
            ]
          },
          "metadata": {},
          "execution_count": 19
        }
      ]
    },
    {
      "cell_type": "code",
      "source": [
        "#Load the Data in SQLite Database\n",
        "subdf.to_sql('bitcoin', conn, if_exists=\"append\", index=False)\n",
        "print(\"Data Successfully exported !\")"
      ],
      "metadata": {
        "colab": {
          "base_uri": "https://localhost:8080/"
        },
        "id": "uFB-T3729SED",
        "outputId": "f6c040fa-189e-4c59-93cf-48f28150a741"
      },
      "execution_count": 20,
      "outputs": [
        {
          "output_type": "stream",
          "name": "stdout",
          "text": [
            "Data Successfully exported !\n"
          ]
        }
      ]
    },
    {
      "cell_type": "code",
      "source": [
        "# Now let’s see what is in the database. I begin with the SELECT query"
      ],
      "metadata": {
        "id": "wLyVCQ0oJIyL"
      },
      "execution_count": 21,
      "outputs": []
    },
    {
      "cell_type": "code",
      "source": [
        "query = \"SELECT * FROM bitcoin\"\n",
        "cur.execute(query)\n",
        "conn.commit()\n",
        "result = cur.fetchall()\n",
        "resultdf = pd.DataFrame(result)\n",
        "resultdf.columns = [tuple[0] for tuple in cur.description]\n",
        "resultdf.head()"
      ],
      "metadata": {
        "colab": {
          "base_uri": "https://localhost:8080/",
          "height": 206
        },
        "id": "CZCKyD5PJYgt",
        "outputId": "c363c244-dbba-451b-bdac-221e39873d6d"
      },
      "execution_count": 22,
      "outputs": [
        {
          "output_type": "execute_result",
          "data": {
            "text/plain": [
              "         Date         Open         High          Low        Close  \\\n",
              "0  2019-04-13  5088.850098  5127.122070  5061.589355  5096.586426   \n",
              "1  2019-04-14  5095.758789  5184.016113  5053.568359  5167.722168   \n",
              "2  2019-04-15  5167.321777  5196.606934  5024.069336  5067.108398   \n",
              "3  2019-04-16  5066.577637  5238.945312  5055.194824  5235.559570   \n",
              "4  2019-04-17  5236.135254  5274.275391  5219.205566  5251.937988   \n",
              "\n",
              "        Volume Dividends Stock_Splits  \n",
              "0  10823289598      None         None  \n",
              "1  10391952498      None         None  \n",
              "2  12290155061      None         None  \n",
              "3  11618660197      None         None  \n",
              "4  12438480677      None         None  "
            ],
            "text/html": [
              "\n",
              "  <div id=\"df-ab6efd6b-cbac-4584-ac09-b8d1dc0bbf00\">\n",
              "    <div class=\"colab-df-container\">\n",
              "      <div>\n",
              "<style scoped>\n",
              "    .dataframe tbody tr th:only-of-type {\n",
              "        vertical-align: middle;\n",
              "    }\n",
              "\n",
              "    .dataframe tbody tr th {\n",
              "        vertical-align: top;\n",
              "    }\n",
              "\n",
              "    .dataframe thead th {\n",
              "        text-align: right;\n",
              "    }\n",
              "</style>\n",
              "<table border=\"1\" class=\"dataframe\">\n",
              "  <thead>\n",
              "    <tr style=\"text-align: right;\">\n",
              "      <th></th>\n",
              "      <th>Date</th>\n",
              "      <th>Open</th>\n",
              "      <th>High</th>\n",
              "      <th>Low</th>\n",
              "      <th>Close</th>\n",
              "      <th>Volume</th>\n",
              "      <th>Dividends</th>\n",
              "      <th>Stock_Splits</th>\n",
              "    </tr>\n",
              "  </thead>\n",
              "  <tbody>\n",
              "    <tr>\n",
              "      <th>0</th>\n",
              "      <td>2019-04-13</td>\n",
              "      <td>5088.850098</td>\n",
              "      <td>5127.122070</td>\n",
              "      <td>5061.589355</td>\n",
              "      <td>5096.586426</td>\n",
              "      <td>10823289598</td>\n",
              "      <td>None</td>\n",
              "      <td>None</td>\n",
              "    </tr>\n",
              "    <tr>\n",
              "      <th>1</th>\n",
              "      <td>2019-04-14</td>\n",
              "      <td>5095.758789</td>\n",
              "      <td>5184.016113</td>\n",
              "      <td>5053.568359</td>\n",
              "      <td>5167.722168</td>\n",
              "      <td>10391952498</td>\n",
              "      <td>None</td>\n",
              "      <td>None</td>\n",
              "    </tr>\n",
              "    <tr>\n",
              "      <th>2</th>\n",
              "      <td>2019-04-15</td>\n",
              "      <td>5167.321777</td>\n",
              "      <td>5196.606934</td>\n",
              "      <td>5024.069336</td>\n",
              "      <td>5067.108398</td>\n",
              "      <td>12290155061</td>\n",
              "      <td>None</td>\n",
              "      <td>None</td>\n",
              "    </tr>\n",
              "    <tr>\n",
              "      <th>3</th>\n",
              "      <td>2019-04-16</td>\n",
              "      <td>5066.577637</td>\n",
              "      <td>5238.945312</td>\n",
              "      <td>5055.194824</td>\n",
              "      <td>5235.559570</td>\n",
              "      <td>11618660197</td>\n",
              "      <td>None</td>\n",
              "      <td>None</td>\n",
              "    </tr>\n",
              "    <tr>\n",
              "      <th>4</th>\n",
              "      <td>2019-04-17</td>\n",
              "      <td>5236.135254</td>\n",
              "      <td>5274.275391</td>\n",
              "      <td>5219.205566</td>\n",
              "      <td>5251.937988</td>\n",
              "      <td>12438480677</td>\n",
              "      <td>None</td>\n",
              "      <td>None</td>\n",
              "    </tr>\n",
              "  </tbody>\n",
              "</table>\n",
              "</div>\n",
              "      <button class=\"colab-df-convert\" onclick=\"convertToInteractive('df-ab6efd6b-cbac-4584-ac09-b8d1dc0bbf00')\"\n",
              "              title=\"Convert this dataframe to an interactive table.\"\n",
              "              style=\"display:none;\">\n",
              "        \n",
              "  <svg xmlns=\"http://www.w3.org/2000/svg\" height=\"24px\"viewBox=\"0 0 24 24\"\n",
              "       width=\"24px\">\n",
              "    <path d=\"M0 0h24v24H0V0z\" fill=\"none\"/>\n",
              "    <path d=\"M18.56 5.44l.94 2.06.94-2.06 2.06-.94-2.06-.94-.94-2.06-.94 2.06-2.06.94zm-11 1L8.5 8.5l.94-2.06 2.06-.94-2.06-.94L8.5 2.5l-.94 2.06-2.06.94zm10 10l.94 2.06.94-2.06 2.06-.94-2.06-.94-.94-2.06-.94 2.06-2.06.94z\"/><path d=\"M17.41 7.96l-1.37-1.37c-.4-.4-.92-.59-1.43-.59-.52 0-1.04.2-1.43.59L10.3 9.45l-7.72 7.72c-.78.78-.78 2.05 0 2.83L4 21.41c.39.39.9.59 1.41.59.51 0 1.02-.2 1.41-.59l7.78-7.78 2.81-2.81c.8-.78.8-2.07 0-2.86zM5.41 20L4 18.59l7.72-7.72 1.47 1.35L5.41 20z\"/>\n",
              "  </svg>\n",
              "      </button>\n",
              "      \n",
              "  <style>\n",
              "    .colab-df-container {\n",
              "      display:flex;\n",
              "      flex-wrap:wrap;\n",
              "      gap: 12px;\n",
              "    }\n",
              "\n",
              "    .colab-df-convert {\n",
              "      background-color: #E8F0FE;\n",
              "      border: none;\n",
              "      border-radius: 50%;\n",
              "      cursor: pointer;\n",
              "      display: none;\n",
              "      fill: #1967D2;\n",
              "      height: 32px;\n",
              "      padding: 0 0 0 0;\n",
              "      width: 32px;\n",
              "    }\n",
              "\n",
              "    .colab-df-convert:hover {\n",
              "      background-color: #E2EBFA;\n",
              "      box-shadow: 0px 1px 2px rgba(60, 64, 67, 0.3), 0px 1px 3px 1px rgba(60, 64, 67, 0.15);\n",
              "      fill: #174EA6;\n",
              "    }\n",
              "\n",
              "    [theme=dark] .colab-df-convert {\n",
              "      background-color: #3B4455;\n",
              "      fill: #D2E3FC;\n",
              "    }\n",
              "\n",
              "    [theme=dark] .colab-df-convert:hover {\n",
              "      background-color: #434B5C;\n",
              "      box-shadow: 0px 1px 3px 1px rgba(0, 0, 0, 0.15);\n",
              "      filter: drop-shadow(0px 1px 2px rgba(0, 0, 0, 0.3));\n",
              "      fill: #FFFFFF;\n",
              "    }\n",
              "  </style>\n",
              "\n",
              "      <script>\n",
              "        const buttonEl =\n",
              "          document.querySelector('#df-ab6efd6b-cbac-4584-ac09-b8d1dc0bbf00 button.colab-df-convert');\n",
              "        buttonEl.style.display =\n",
              "          google.colab.kernel.accessAllowed ? 'block' : 'none';\n",
              "\n",
              "        async function convertToInteractive(key) {\n",
              "          const element = document.querySelector('#df-ab6efd6b-cbac-4584-ac09-b8d1dc0bbf00');\n",
              "          const dataTable =\n",
              "            await google.colab.kernel.invokeFunction('convertToInteractive',\n",
              "                                                     [key], {});\n",
              "          if (!dataTable) return;\n",
              "\n",
              "          const docLinkHtml = 'Like what you see? Visit the ' +\n",
              "            '<a target=\"_blank\" href=https://colab.research.google.com/notebooks/data_table.ipynb>data table notebook</a>'\n",
              "            + ' to learn more about interactive tables.';\n",
              "          element.innerHTML = '';\n",
              "          dataTable['output_type'] = 'display_data';\n",
              "          await google.colab.output.renderOutput(dataTable, element);\n",
              "          const docLink = document.createElement('div');\n",
              "          docLink.innerHTML = docLinkHtml;\n",
              "          element.appendChild(docLink);\n",
              "        }\n",
              "      </script>\n",
              "    </div>\n",
              "  </div>\n",
              "  "
            ]
          },
          "metadata": {},
          "execution_count": 22
        }
      ]
    },
    {
      "cell_type": "code",
      "source": [
        "query = \"SELECT min(Close) FROM bitcoin\"\n",
        "cur.execute(query)\n",
        "conn.commit()\n",
        "result = cur.fetchone()\n",
        "print(result)\n"
      ],
      "metadata": {
        "colab": {
          "base_uri": "https://localhost:8080/"
        },
        "id": "YP7MVzssKU_y",
        "outputId": "5809f7cc-5e94-4573-a24f-f4443331a140"
      },
      "execution_count": 35,
      "outputs": [
        {
          "output_type": "stream",
          "name": "stdout",
          "text": [
            "(4970.7880859375,)\n"
          ]
        }
      ]
    },
    {
      "cell_type": "code",
      "source": [
        "query = \"SELECT max(Close) FROM bitcoin\"\n",
        "cur.execute(query)\n",
        "conn.commit()\n",
        "result = cur.fetchone()\n",
        "print(result)"
      ],
      "metadata": {
        "colab": {
          "base_uri": "https://localhost:8080/"
        },
        "id": "ZA24bgARKNAl",
        "outputId": "dbc252b8-7734-4d58-fd47-5ce343002eeb"
      },
      "execution_count": 34,
      "outputs": [
        {
          "output_type": "stream",
          "name": "stdout",
          "text": [
            "(67566.828125,)\n"
          ]
        }
      ]
    },
    {
      "cell_type": "code",
      "source": [
        "query = \"SELECT avg(Close) FROM bitcoin\"\n",
        "cur.execute(query)\n",
        "conn.commit()\n",
        "result = cur.fetchone()\n",
        "print(result)"
      ],
      "metadata": {
        "colab": {
          "base_uri": "https://localhost:8080/"
        },
        "id": "ARN6rifoLBBB",
        "outputId": "ad221765-cf26-4404-d861-8ddefb0891ee"
      },
      "execution_count": 36,
      "outputs": [
        {
          "output_type": "stream",
          "name": "stdout",
          "text": [
            "(25475.889568690836,)\n"
          ]
        }
      ]
    },
    {
      "cell_type": "code",
      "source": [
        "query = \"SELECT avg(Close) FROM bitcoin WHERE Date BETWEEN '2019-04-13' AND '2020-04-13'\"\n",
        "cur.execute(query)\n",
        "conn.commit()\n",
        "result = cur.fetchone()\n",
        "print(result)"
      ],
      "metadata": {
        "colab": {
          "base_uri": "https://localhost:8080/"
        },
        "id": "tL5jCESPLJDW",
        "outputId": "2fd55f94-69e9-44fb-def4-9fa6af4790d2"
      },
      "execution_count": 39,
      "outputs": [
        {
          "output_type": "stream",
          "name": "stdout",
          "text": [
            "(8555.585612866145,)\n"
          ]
        }
      ]
    },
    {
      "cell_type": "code",
      "source": [
        "query = \"SELECT avg(Close) FROM bitcoin WHERE Date BETWEEN '2020-04-13' AND '2021-04-13'\"\n",
        "cur.execute(query)\n",
        "conn.commit()\n",
        "result = cur.fetchone()\n",
        "print(result)"
      ],
      "metadata": {
        "colab": {
          "base_uri": "https://localhost:8080/"
        },
        "id": "54mb3EmYMC0T",
        "outputId": "0bf55073-2001-45de-c38e-2b418e3754d8"
      },
      "execution_count": 40,
      "outputs": [
        {
          "output_type": "stream",
          "name": "stdout",
          "text": [
            "(22076.250424244365,)\n"
          ]
        }
      ]
    },
    {
      "cell_type": "code",
      "source": [
        "query = \"SELECT avg(Close) FROM bitcoin WHERE Date BETWEEN '2021-04-13' AND '2022-04-13'\"\n",
        "cur.execute(query)\n",
        "conn.commit()\n",
        "result = cur.fetchone()\n",
        "print(result)"
      ],
      "metadata": {
        "colab": {
          "base_uri": "https://localhost:8080/"
        },
        "id": "XBjQ-mvHMJAa",
        "outputId": "49848304-3589-4f4b-c701-3ce4e0ddc491"
      },
      "execution_count": 41,
      "outputs": [
        {
          "output_type": "stream",
          "name": "stdout",
          "text": [
            "(45951.00242936644,)\n"
          ]
        }
      ]
    },
    {
      "cell_type": "code",
      "source": [
        "query = \"SELECT avg(Volume) FROM bitcoin\"\n",
        "cur.execute(query)\n",
        "conn.commit()\n",
        "result = cur.fetchone()\n",
        "print(result)"
      ],
      "metadata": {
        "colab": {
          "base_uri": "https://localhost:8080/"
        },
        "id": "fZF30V6lMu15",
        "outputId": "68234891-ee29-400b-cb53-c3f59e7a9f3b"
      },
      "execution_count": 48,
      "outputs": [
        {
          "output_type": "stream",
          "name": "stdout",
          "text": [
            "(34049668443.148724,)\n"
          ]
        }
      ]
    },
    {
      "cell_type": "code",
      "source": [
        "query = \"SELECT min(Volume) FROM bitcoin\"\n",
        "cur.execute(query)\n",
        "conn.commit()\n",
        "result = cur.fetchone()\n",
        "print(result)"
      ],
      "metadata": {
        "colab": {
          "base_uri": "https://localhost:8080/"
        },
        "id": "PtrDTNlIM48T",
        "outputId": "0c11ccda-c625-4988-9b9c-792f75ac0d29"
      },
      "execution_count": 49,
      "outputs": [
        {
          "output_type": "stream",
          "name": "stdout",
          "text": [
            "(10391952498,)\n"
          ]
        }
      ]
    },
    {
      "cell_type": "code",
      "source": [
        "query = \"SELECT max(Volume) FROM bitcoin\"\n",
        "cur.execute(query)\n",
        "conn.commit()\n",
        "result = cur.fetchone()\n",
        "print(result)"
      ],
      "metadata": {
        "colab": {
          "base_uri": "https://localhost:8080/"
        },
        "id": "IcW0WIt7M_Va",
        "outputId": "4e23e7bf-baad-4436-e804-c2ff6125d74e"
      },
      "execution_count": 50,
      "outputs": [
        {
          "output_type": "stream",
          "name": "stdout",
          "text": [
            "(350967941479,)\n"
          ]
        }
      ]
    },
    {
      "cell_type": "code",
      "source": [
        "df.dtypes"
      ],
      "metadata": {
        "colab": {
          "base_uri": "https://localhost:8080/"
        },
        "id": "ImHyHp879eHN",
        "outputId": "891c6f35-40be-4de9-99a7-45f63221ccd7"
      },
      "execution_count": 23,
      "outputs": [
        {
          "output_type": "execute_result",
          "data": {
            "text/plain": [
              "Date             object\n",
              "Open            float64\n",
              "High            float64\n",
              "Low             float64\n",
              "Close           float64\n",
              "Volume            int64\n",
              "Dividends         int64\n",
              "Stock_Splits      int64\n",
              "dtype: object"
            ]
          },
          "metadata": {},
          "execution_count": 23
        }
      ]
    },
    {
      "cell_type": "code",
      "source": [
        "df['Date'] = pd.to_datetime(df['Date'])"
      ],
      "metadata": {
        "id": "erlv7_9t9g8X"
      },
      "execution_count": 24,
      "outputs": []
    },
    {
      "cell_type": "code",
      "source": [
        "df.dtypes"
      ],
      "metadata": {
        "colab": {
          "base_uri": "https://localhost:8080/"
        },
        "id": "XFHxZbfa9jCr",
        "outputId": "52a74aa5-a6e3-4e62-974d-b1dd734b9cf7"
      },
      "execution_count": 25,
      "outputs": [
        {
          "output_type": "execute_result",
          "data": {
            "text/plain": [
              "Date            datetime64[ns]\n",
              "Open                   float64\n",
              "High                   float64\n",
              "Low                    float64\n",
              "Close                  float64\n",
              "Volume                   int64\n",
              "Dividends                int64\n",
              "Stock_Splits             int64\n",
              "dtype: object"
            ]
          },
          "metadata": {},
          "execution_count": 25
        }
      ]
    },
    {
      "cell_type": "code",
      "source": [
        "df.head()"
      ],
      "metadata": {
        "colab": {
          "base_uri": "https://localhost:8080/",
          "height": 206
        },
        "id": "8yrIki1f9oXk",
        "outputId": "310d3d27-a6d9-4368-e3ee-15f0400b83a2"
      },
      "execution_count": 26,
      "outputs": [
        {
          "output_type": "execute_result",
          "data": {
            "text/plain": [
              "        Date         Open         High          Low        Close       Volume  \\\n",
              "0 2019-04-13  5088.850098  5127.122070  5061.589355  5096.586426  10823289598   \n",
              "1 2019-04-14  5095.758789  5184.016113  5053.568359  5167.722168  10391952498   \n",
              "2 2019-04-15  5167.321777  5196.606934  5024.069336  5067.108398  12290155061   \n",
              "3 2019-04-16  5066.577637  5238.945312  5055.194824  5235.559570  11618660197   \n",
              "4 2019-04-17  5236.135254  5274.275391  5219.205566  5251.937988  12438480677   \n",
              "\n",
              "   Dividends  Stock_Splits  \n",
              "0          0             0  \n",
              "1          0             0  \n",
              "2          0             0  \n",
              "3          0             0  \n",
              "4          0             0  "
            ],
            "text/html": [
              "\n",
              "  <div id=\"df-5cf687fe-e806-4df7-a658-61a47fa0c58d\">\n",
              "    <div class=\"colab-df-container\">\n",
              "      <div>\n",
              "<style scoped>\n",
              "    .dataframe tbody tr th:only-of-type {\n",
              "        vertical-align: middle;\n",
              "    }\n",
              "\n",
              "    .dataframe tbody tr th {\n",
              "        vertical-align: top;\n",
              "    }\n",
              "\n",
              "    .dataframe thead th {\n",
              "        text-align: right;\n",
              "    }\n",
              "</style>\n",
              "<table border=\"1\" class=\"dataframe\">\n",
              "  <thead>\n",
              "    <tr style=\"text-align: right;\">\n",
              "      <th></th>\n",
              "      <th>Date</th>\n",
              "      <th>Open</th>\n",
              "      <th>High</th>\n",
              "      <th>Low</th>\n",
              "      <th>Close</th>\n",
              "      <th>Volume</th>\n",
              "      <th>Dividends</th>\n",
              "      <th>Stock_Splits</th>\n",
              "    </tr>\n",
              "  </thead>\n",
              "  <tbody>\n",
              "    <tr>\n",
              "      <th>0</th>\n",
              "      <td>2019-04-13</td>\n",
              "      <td>5088.850098</td>\n",
              "      <td>5127.122070</td>\n",
              "      <td>5061.589355</td>\n",
              "      <td>5096.586426</td>\n",
              "      <td>10823289598</td>\n",
              "      <td>0</td>\n",
              "      <td>0</td>\n",
              "    </tr>\n",
              "    <tr>\n",
              "      <th>1</th>\n",
              "      <td>2019-04-14</td>\n",
              "      <td>5095.758789</td>\n",
              "      <td>5184.016113</td>\n",
              "      <td>5053.568359</td>\n",
              "      <td>5167.722168</td>\n",
              "      <td>10391952498</td>\n",
              "      <td>0</td>\n",
              "      <td>0</td>\n",
              "    </tr>\n",
              "    <tr>\n",
              "      <th>2</th>\n",
              "      <td>2019-04-15</td>\n",
              "      <td>5167.321777</td>\n",
              "      <td>5196.606934</td>\n",
              "      <td>5024.069336</td>\n",
              "      <td>5067.108398</td>\n",
              "      <td>12290155061</td>\n",
              "      <td>0</td>\n",
              "      <td>0</td>\n",
              "    </tr>\n",
              "    <tr>\n",
              "      <th>3</th>\n",
              "      <td>2019-04-16</td>\n",
              "      <td>5066.577637</td>\n",
              "      <td>5238.945312</td>\n",
              "      <td>5055.194824</td>\n",
              "      <td>5235.559570</td>\n",
              "      <td>11618660197</td>\n",
              "      <td>0</td>\n",
              "      <td>0</td>\n",
              "    </tr>\n",
              "    <tr>\n",
              "      <th>4</th>\n",
              "      <td>2019-04-17</td>\n",
              "      <td>5236.135254</td>\n",
              "      <td>5274.275391</td>\n",
              "      <td>5219.205566</td>\n",
              "      <td>5251.937988</td>\n",
              "      <td>12438480677</td>\n",
              "      <td>0</td>\n",
              "      <td>0</td>\n",
              "    </tr>\n",
              "  </tbody>\n",
              "</table>\n",
              "</div>\n",
              "      <button class=\"colab-df-convert\" onclick=\"convertToInteractive('df-5cf687fe-e806-4df7-a658-61a47fa0c58d')\"\n",
              "              title=\"Convert this dataframe to an interactive table.\"\n",
              "              style=\"display:none;\">\n",
              "        \n",
              "  <svg xmlns=\"http://www.w3.org/2000/svg\" height=\"24px\"viewBox=\"0 0 24 24\"\n",
              "       width=\"24px\">\n",
              "    <path d=\"M0 0h24v24H0V0z\" fill=\"none\"/>\n",
              "    <path d=\"M18.56 5.44l.94 2.06.94-2.06 2.06-.94-2.06-.94-.94-2.06-.94 2.06-2.06.94zm-11 1L8.5 8.5l.94-2.06 2.06-.94-2.06-.94L8.5 2.5l-.94 2.06-2.06.94zm10 10l.94 2.06.94-2.06 2.06-.94-2.06-.94-.94-2.06-.94 2.06-2.06.94z\"/><path d=\"M17.41 7.96l-1.37-1.37c-.4-.4-.92-.59-1.43-.59-.52 0-1.04.2-1.43.59L10.3 9.45l-7.72 7.72c-.78.78-.78 2.05 0 2.83L4 21.41c.39.39.9.59 1.41.59.51 0 1.02-.2 1.41-.59l7.78-7.78 2.81-2.81c.8-.78.8-2.07 0-2.86zM5.41 20L4 18.59l7.72-7.72 1.47 1.35L5.41 20z\"/>\n",
              "  </svg>\n",
              "      </button>\n",
              "      \n",
              "  <style>\n",
              "    .colab-df-container {\n",
              "      display:flex;\n",
              "      flex-wrap:wrap;\n",
              "      gap: 12px;\n",
              "    }\n",
              "\n",
              "    .colab-df-convert {\n",
              "      background-color: #E8F0FE;\n",
              "      border: none;\n",
              "      border-radius: 50%;\n",
              "      cursor: pointer;\n",
              "      display: none;\n",
              "      fill: #1967D2;\n",
              "      height: 32px;\n",
              "      padding: 0 0 0 0;\n",
              "      width: 32px;\n",
              "    }\n",
              "\n",
              "    .colab-df-convert:hover {\n",
              "      background-color: #E2EBFA;\n",
              "      box-shadow: 0px 1px 2px rgba(60, 64, 67, 0.3), 0px 1px 3px 1px rgba(60, 64, 67, 0.15);\n",
              "      fill: #174EA6;\n",
              "    }\n",
              "\n",
              "    [theme=dark] .colab-df-convert {\n",
              "      background-color: #3B4455;\n",
              "      fill: #D2E3FC;\n",
              "    }\n",
              "\n",
              "    [theme=dark] .colab-df-convert:hover {\n",
              "      background-color: #434B5C;\n",
              "      box-shadow: 0px 1px 3px 1px rgba(0, 0, 0, 0.15);\n",
              "      filter: drop-shadow(0px 1px 2px rgba(0, 0, 0, 0.3));\n",
              "      fill: #FFFFFF;\n",
              "    }\n",
              "  </style>\n",
              "\n",
              "      <script>\n",
              "        const buttonEl =\n",
              "          document.querySelector('#df-5cf687fe-e806-4df7-a658-61a47fa0c58d button.colab-df-convert');\n",
              "        buttonEl.style.display =\n",
              "          google.colab.kernel.accessAllowed ? 'block' : 'none';\n",
              "\n",
              "        async function convertToInteractive(key) {\n",
              "          const element = document.querySelector('#df-5cf687fe-e806-4df7-a658-61a47fa0c58d');\n",
              "          const dataTable =\n",
              "            await google.colab.kernel.invokeFunction('convertToInteractive',\n",
              "                                                     [key], {});\n",
              "          if (!dataTable) return;\n",
              "\n",
              "          const docLinkHtml = 'Like what you see? Visit the ' +\n",
              "            '<a target=\"_blank\" href=https://colab.research.google.com/notebooks/data_table.ipynb>data table notebook</a>'\n",
              "            + ' to learn more about interactive tables.';\n",
              "          element.innerHTML = '';\n",
              "          dataTable['output_type'] = 'display_data';\n",
              "          await google.colab.output.renderOutput(dataTable, element);\n",
              "          const docLink = document.createElement('div');\n",
              "          docLink.innerHTML = docLinkHtml;\n",
              "          element.appendChild(docLink);\n",
              "        }\n",
              "      </script>\n",
              "    </div>\n",
              "  </div>\n",
              "  "
            ]
          },
          "metadata": {},
          "execution_count": 26
        }
      ]
    },
    {
      "cell_type": "code",
      "source": [
        "df = df.drop(['Dividends','Stock_Splits'], axis=1)"
      ],
      "metadata": {
        "id": "YUYRyqCVMVt6"
      },
      "execution_count": 42,
      "outputs": []
    },
    {
      "cell_type": "code",
      "source": [
        "df2 = df.set_index('Date')"
      ],
      "metadata": {
        "id": "jpf_VOi39q9Y"
      },
      "execution_count": 43,
      "outputs": []
    },
    {
      "cell_type": "code",
      "source": [
        "df2.head()"
      ],
      "metadata": {
        "colab": {
          "base_uri": "https://localhost:8080/",
          "height": 237
        },
        "id": "A-iz96uTMntw",
        "outputId": "bfd37485-b4c0-425d-d3ff-fa7dcb181e77"
      },
      "execution_count": 45,
      "outputs": [
        {
          "output_type": "execute_result",
          "data": {
            "text/plain": [
              "                   Open         High          Low        Close       Volume\n",
              "Date                                                                       \n",
              "2019-04-13  5088.850098  5127.122070  5061.589355  5096.586426  10823289598\n",
              "2019-04-14  5095.758789  5184.016113  5053.568359  5167.722168  10391952498\n",
              "2019-04-15  5167.321777  5196.606934  5024.069336  5067.108398  12290155061\n",
              "2019-04-16  5066.577637  5238.945312  5055.194824  5235.559570  11618660197\n",
              "2019-04-17  5236.135254  5274.275391  5219.205566  5251.937988  12438480677"
            ],
            "text/html": [
              "\n",
              "  <div id=\"df-a6e93066-c1d5-415b-bd72-41dde403635e\">\n",
              "    <div class=\"colab-df-container\">\n",
              "      <div>\n",
              "<style scoped>\n",
              "    .dataframe tbody tr th:only-of-type {\n",
              "        vertical-align: middle;\n",
              "    }\n",
              "\n",
              "    .dataframe tbody tr th {\n",
              "        vertical-align: top;\n",
              "    }\n",
              "\n",
              "    .dataframe thead th {\n",
              "        text-align: right;\n",
              "    }\n",
              "</style>\n",
              "<table border=\"1\" class=\"dataframe\">\n",
              "  <thead>\n",
              "    <tr style=\"text-align: right;\">\n",
              "      <th></th>\n",
              "      <th>Open</th>\n",
              "      <th>High</th>\n",
              "      <th>Low</th>\n",
              "      <th>Close</th>\n",
              "      <th>Volume</th>\n",
              "    </tr>\n",
              "    <tr>\n",
              "      <th>Date</th>\n",
              "      <th></th>\n",
              "      <th></th>\n",
              "      <th></th>\n",
              "      <th></th>\n",
              "      <th></th>\n",
              "    </tr>\n",
              "  </thead>\n",
              "  <tbody>\n",
              "    <tr>\n",
              "      <th>2019-04-13</th>\n",
              "      <td>5088.850098</td>\n",
              "      <td>5127.122070</td>\n",
              "      <td>5061.589355</td>\n",
              "      <td>5096.586426</td>\n",
              "      <td>10823289598</td>\n",
              "    </tr>\n",
              "    <tr>\n",
              "      <th>2019-04-14</th>\n",
              "      <td>5095.758789</td>\n",
              "      <td>5184.016113</td>\n",
              "      <td>5053.568359</td>\n",
              "      <td>5167.722168</td>\n",
              "      <td>10391952498</td>\n",
              "    </tr>\n",
              "    <tr>\n",
              "      <th>2019-04-15</th>\n",
              "      <td>5167.321777</td>\n",
              "      <td>5196.606934</td>\n",
              "      <td>5024.069336</td>\n",
              "      <td>5067.108398</td>\n",
              "      <td>12290155061</td>\n",
              "    </tr>\n",
              "    <tr>\n",
              "      <th>2019-04-16</th>\n",
              "      <td>5066.577637</td>\n",
              "      <td>5238.945312</td>\n",
              "      <td>5055.194824</td>\n",
              "      <td>5235.559570</td>\n",
              "      <td>11618660197</td>\n",
              "    </tr>\n",
              "    <tr>\n",
              "      <th>2019-04-17</th>\n",
              "      <td>5236.135254</td>\n",
              "      <td>5274.275391</td>\n",
              "      <td>5219.205566</td>\n",
              "      <td>5251.937988</td>\n",
              "      <td>12438480677</td>\n",
              "    </tr>\n",
              "  </tbody>\n",
              "</table>\n",
              "</div>\n",
              "      <button class=\"colab-df-convert\" onclick=\"convertToInteractive('df-a6e93066-c1d5-415b-bd72-41dde403635e')\"\n",
              "              title=\"Convert this dataframe to an interactive table.\"\n",
              "              style=\"display:none;\">\n",
              "        \n",
              "  <svg xmlns=\"http://www.w3.org/2000/svg\" height=\"24px\"viewBox=\"0 0 24 24\"\n",
              "       width=\"24px\">\n",
              "    <path d=\"M0 0h24v24H0V0z\" fill=\"none\"/>\n",
              "    <path d=\"M18.56 5.44l.94 2.06.94-2.06 2.06-.94-2.06-.94-.94-2.06-.94 2.06-2.06.94zm-11 1L8.5 8.5l.94-2.06 2.06-.94-2.06-.94L8.5 2.5l-.94 2.06-2.06.94zm10 10l.94 2.06.94-2.06 2.06-.94-2.06-.94-.94-2.06-.94 2.06-2.06.94z\"/><path d=\"M17.41 7.96l-1.37-1.37c-.4-.4-.92-.59-1.43-.59-.52 0-1.04.2-1.43.59L10.3 9.45l-7.72 7.72c-.78.78-.78 2.05 0 2.83L4 21.41c.39.39.9.59 1.41.59.51 0 1.02-.2 1.41-.59l7.78-7.78 2.81-2.81c.8-.78.8-2.07 0-2.86zM5.41 20L4 18.59l7.72-7.72 1.47 1.35L5.41 20z\"/>\n",
              "  </svg>\n",
              "      </button>\n",
              "      \n",
              "  <style>\n",
              "    .colab-df-container {\n",
              "      display:flex;\n",
              "      flex-wrap:wrap;\n",
              "      gap: 12px;\n",
              "    }\n",
              "\n",
              "    .colab-df-convert {\n",
              "      background-color: #E8F0FE;\n",
              "      border: none;\n",
              "      border-radius: 50%;\n",
              "      cursor: pointer;\n",
              "      display: none;\n",
              "      fill: #1967D2;\n",
              "      height: 32px;\n",
              "      padding: 0 0 0 0;\n",
              "      width: 32px;\n",
              "    }\n",
              "\n",
              "    .colab-df-convert:hover {\n",
              "      background-color: #E2EBFA;\n",
              "      box-shadow: 0px 1px 2px rgba(60, 64, 67, 0.3), 0px 1px 3px 1px rgba(60, 64, 67, 0.15);\n",
              "      fill: #174EA6;\n",
              "    }\n",
              "\n",
              "    [theme=dark] .colab-df-convert {\n",
              "      background-color: #3B4455;\n",
              "      fill: #D2E3FC;\n",
              "    }\n",
              "\n",
              "    [theme=dark] .colab-df-convert:hover {\n",
              "      background-color: #434B5C;\n",
              "      box-shadow: 0px 1px 3px 1px rgba(0, 0, 0, 0.15);\n",
              "      filter: drop-shadow(0px 1px 2px rgba(0, 0, 0, 0.3));\n",
              "      fill: #FFFFFF;\n",
              "    }\n",
              "  </style>\n",
              "\n",
              "      <script>\n",
              "        const buttonEl =\n",
              "          document.querySelector('#df-a6e93066-c1d5-415b-bd72-41dde403635e button.colab-df-convert');\n",
              "        buttonEl.style.display =\n",
              "          google.colab.kernel.accessAllowed ? 'block' : 'none';\n",
              "\n",
              "        async function convertToInteractive(key) {\n",
              "          const element = document.querySelector('#df-a6e93066-c1d5-415b-bd72-41dde403635e');\n",
              "          const dataTable =\n",
              "            await google.colab.kernel.invokeFunction('convertToInteractive',\n",
              "                                                     [key], {});\n",
              "          if (!dataTable) return;\n",
              "\n",
              "          const docLinkHtml = 'Like what you see? Visit the ' +\n",
              "            '<a target=\"_blank\" href=https://colab.research.google.com/notebooks/data_table.ipynb>data table notebook</a>'\n",
              "            + ' to learn more about interactive tables.';\n",
              "          element.innerHTML = '';\n",
              "          dataTable['output_type'] = 'display_data';\n",
              "          await google.colab.output.renderOutput(dataTable, element);\n",
              "          const docLink = document.createElement('div');\n",
              "          docLink.innerHTML = docLinkHtml;\n",
              "          element.appendChild(docLink);\n",
              "        }\n",
              "      </script>\n",
              "    </div>\n",
              "  </div>\n",
              "  "
            ]
          },
          "metadata": {},
          "execution_count": 45
        }
      ]
    },
    {
      "cell_type": "code",
      "source": [
        "#Data visualization\n",
        "import matplotlib\n",
        "import matplotlib.pyplot as plt\n",
        "import matplotlib.ticker\n",
        "import matplotlib.dates"
      ],
      "metadata": {
        "id": "vcD72xs_9u3z"
      },
      "execution_count": 46,
      "outputs": []
    },
    {
      "cell_type": "code",
      "source": [
        "# Plotting the timeseries graph of the Bitcoin dataset\n",
        "ig= plt.figure(figsize=(20,15))\n",
        "\n",
        "plt.plot(df2['Close'],color='green',alpha=1)\n",
        "plt.title('Bitcoin closing prices by Date',fontsize=14)\n",
        "plt.xticks(rotation=30, ha='right')\n",
        "plt.xlabel(\"Date\")\n",
        "plt.ylabel(\"Bitcoin price\")\n",
        "plt.gca().xaxis.set_major_locator(matplotlib.dates.MonthLocator()) \n",
        "plt.gca().xaxis.set_major_formatter(matplotlib.dates.DateFormatter(\"%Y-%m\"))\n",
        "plt.gcf().autofmt_xdate()\n",
        "plt.margins(x=0,y=0)\n",
        "plt.show()\n",
        "\n"
      ],
      "metadata": {
        "colab": {
          "base_uri": "https://localhost:8080/",
          "height": 833
        },
        "id": "0d359cE0ANI0",
        "outputId": "3e35b3b1-e9b6-4768-fcfe-a8c35fa908c0"
      },
      "execution_count": 47,
      "outputs": [
        {
          "output_type": "display_data",
          "data": {
            "text/plain": [
              "<Figure size 1440x1080 with 1 Axes>"
            ],
            "image/png": "[encoded data removed]"
          },
          "metadata": {
            "needs_background": "light"
          }
        }
      ]
    },
    {
      "cell_type": "code",
      "source": [
        "# As can be seen from the line graph, there was an upward trend in the Bitcoin prices over 3 years from April 2019 to April 2022.\n",
        "# From 2019 to the end of 2020, the price fluctuated around 15K USD. From December 2020 to April 2021 , there was a sharp increase in Bitcoin's price to arpund 63K.\n",
        "# After that in July, it dropped half of its price to about 32K and then rose again to reach the highest peak of 67K in November 2021. \n",
        "# In the last period of 5 months between December 2021 and April 2022, Bitcoin price decreased to around 43K USD."
      ],
      "metadata": {
        "id": "awzQhuLKAX1S"
      },
      "execution_count": 30,
      "outputs": []
    }
  ]
}